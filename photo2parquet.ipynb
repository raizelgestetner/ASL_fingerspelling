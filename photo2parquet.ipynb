{
  "nbformat": 4,
  "nbformat_minor": 0,
  "metadata": {
    "colab": {
      "provenance": [],
      "include_colab_link": true
    },
    "kernelspec": {
      "name": "python3",
      "display_name": "Python 3"
    },
    "language_info": {
      "name": "python"
    }
  },
  "cells": [
    {
      "cell_type": "markdown",
      "metadata": {
        "id": "view-in-github",
        "colab_type": "text"
      },
      "source": [
        "<a href=\"https://colab.research.google.com/github/raizelgestetner/ASL_fingerspelling/blob/main/photo2parquet.ipynb\" target=\"_parent\"><img src=\"https://colab.research.google.com/assets/colab-badge.svg\" alt=\"Open In Colab\"/></a>"
      ]
    },
    {
      "cell_type": "markdown",
      "source": [
        "Adding some text"
      ],
      "metadata": {
        "id": "9hYwDhxklOrN"
      }
    },
    {
      "cell_type": "code",
      "source": [
        "from google.colab import drive\n",
        "drive.mount(\"/content/gdrive/\")"
      ],
      "metadata": {
        "colab": {
          "base_uri": "https://localhost:8080/",
          "height": 338
        },
        "id": "enoyeVOVZsfu",
        "outputId": "10555e63-8f17-4b12-a637-10173428fff1"
      },
      "execution_count": 1,
      "outputs": [
        {
          "output_type": "error",
          "ename": "MessageError",
          "evalue": "Error: credential propagation was unsuccessful",
          "traceback": [
            "\u001b[0;31m---------------------------------------------------------------------------\u001b[0m",
            "\u001b[0;31mMessageError\u001b[0m                              Traceback (most recent call last)",
            "\u001b[0;32m<ipython-input-1-3a0701a757ac>\u001b[0m in \u001b[0;36m<cell line: 2>\u001b[0;34m()\u001b[0m\n\u001b[1;32m      1\u001b[0m \u001b[0;32mfrom\u001b[0m \u001b[0mgoogle\u001b[0m\u001b[0;34m.\u001b[0m\u001b[0mcolab\u001b[0m \u001b[0;32mimport\u001b[0m \u001b[0mdrive\u001b[0m\u001b[0;34m\u001b[0m\u001b[0;34m\u001b[0m\u001b[0m\n\u001b[0;32m----> 2\u001b[0;31m \u001b[0mdrive\u001b[0m\u001b[0;34m.\u001b[0m\u001b[0mmount\u001b[0m\u001b[0;34m(\u001b[0m\u001b[0;34m\"/content/gdrive/\"\u001b[0m\u001b[0;34m)\u001b[0m\u001b[0;34m\u001b[0m\u001b[0;34m\u001b[0m\u001b[0m\n\u001b[0m",
            "\u001b[0;32m/usr/local/lib/python3.10/dist-packages/google/colab/drive.py\u001b[0m in \u001b[0;36mmount\u001b[0;34m(mountpoint, force_remount, timeout_ms, readonly)\u001b[0m\n\u001b[1;32m     98\u001b[0m \u001b[0;32mdef\u001b[0m \u001b[0mmount\u001b[0m\u001b[0;34m(\u001b[0m\u001b[0mmountpoint\u001b[0m\u001b[0;34m,\u001b[0m \u001b[0mforce_remount\u001b[0m\u001b[0;34m=\u001b[0m\u001b[0;32mFalse\u001b[0m\u001b[0;34m,\u001b[0m \u001b[0mtimeout_ms\u001b[0m\u001b[0;34m=\u001b[0m\u001b[0;36m120000\u001b[0m\u001b[0;34m,\u001b[0m \u001b[0mreadonly\u001b[0m\u001b[0;34m=\u001b[0m\u001b[0;32mFalse\u001b[0m\u001b[0;34m)\u001b[0m\u001b[0;34m:\u001b[0m\u001b[0;34m\u001b[0m\u001b[0;34m\u001b[0m\u001b[0m\n\u001b[1;32m     99\u001b[0m   \u001b[0;34m\"\"\"Mount your Google Drive at the specified mountpoint path.\"\"\"\u001b[0m\u001b[0;34m\u001b[0m\u001b[0;34m\u001b[0m\u001b[0m\n\u001b[0;32m--> 100\u001b[0;31m   return _mount(\n\u001b[0m\u001b[1;32m    101\u001b[0m       \u001b[0mmountpoint\u001b[0m\u001b[0;34m,\u001b[0m\u001b[0;34m\u001b[0m\u001b[0;34m\u001b[0m\u001b[0m\n\u001b[1;32m    102\u001b[0m       \u001b[0mforce_remount\u001b[0m\u001b[0;34m=\u001b[0m\u001b[0mforce_remount\u001b[0m\u001b[0;34m,\u001b[0m\u001b[0;34m\u001b[0m\u001b[0;34m\u001b[0m\u001b[0m\n",
            "\u001b[0;32m/usr/local/lib/python3.10/dist-packages/google/colab/drive.py\u001b[0m in \u001b[0;36m_mount\u001b[0;34m(mountpoint, force_remount, timeout_ms, ephemeral, readonly)\u001b[0m\n\u001b[1;32m    127\u001b[0m   )\n\u001b[1;32m    128\u001b[0m   \u001b[0;32mif\u001b[0m \u001b[0mephemeral\u001b[0m\u001b[0;34m:\u001b[0m\u001b[0;34m\u001b[0m\u001b[0;34m\u001b[0m\u001b[0m\n\u001b[0;32m--> 129\u001b[0;31m     _message.blocking_request(\n\u001b[0m\u001b[1;32m    130\u001b[0m         \u001b[0;34m'request_auth'\u001b[0m\u001b[0;34m,\u001b[0m \u001b[0mrequest\u001b[0m\u001b[0;34m=\u001b[0m\u001b[0;34m{\u001b[0m\u001b[0;34m'authType'\u001b[0m\u001b[0;34m:\u001b[0m \u001b[0;34m'dfs_ephemeral'\u001b[0m\u001b[0;34m}\u001b[0m\u001b[0;34m,\u001b[0m \u001b[0mtimeout_sec\u001b[0m\u001b[0;34m=\u001b[0m\u001b[0;32mNone\u001b[0m\u001b[0;34m\u001b[0m\u001b[0;34m\u001b[0m\u001b[0m\n\u001b[1;32m    131\u001b[0m     )\n",
            "\u001b[0;32m/usr/local/lib/python3.10/dist-packages/google/colab/_message.py\u001b[0m in \u001b[0;36mblocking_request\u001b[0;34m(request_type, request, timeout_sec, parent)\u001b[0m\n\u001b[1;32m    174\u001b[0m       \u001b[0mrequest_type\u001b[0m\u001b[0;34m,\u001b[0m \u001b[0mrequest\u001b[0m\u001b[0;34m,\u001b[0m \u001b[0mparent\u001b[0m\u001b[0;34m=\u001b[0m\u001b[0mparent\u001b[0m\u001b[0;34m,\u001b[0m \u001b[0mexpect_reply\u001b[0m\u001b[0;34m=\u001b[0m\u001b[0;32mTrue\u001b[0m\u001b[0;34m\u001b[0m\u001b[0;34m\u001b[0m\u001b[0m\n\u001b[1;32m    175\u001b[0m   )\n\u001b[0;32m--> 176\u001b[0;31m   \u001b[0;32mreturn\u001b[0m \u001b[0mread_reply_from_input\u001b[0m\u001b[0;34m(\u001b[0m\u001b[0mrequest_id\u001b[0m\u001b[0;34m,\u001b[0m \u001b[0mtimeout_sec\u001b[0m\u001b[0;34m)\u001b[0m\u001b[0;34m\u001b[0m\u001b[0;34m\u001b[0m\u001b[0m\n\u001b[0m",
            "\u001b[0;32m/usr/local/lib/python3.10/dist-packages/google/colab/_message.py\u001b[0m in \u001b[0;36mread_reply_from_input\u001b[0;34m(message_id, timeout_sec)\u001b[0m\n\u001b[1;32m    101\u001b[0m     ):\n\u001b[1;32m    102\u001b[0m       \u001b[0;32mif\u001b[0m \u001b[0;34m'error'\u001b[0m \u001b[0;32min\u001b[0m \u001b[0mreply\u001b[0m\u001b[0;34m:\u001b[0m\u001b[0;34m\u001b[0m\u001b[0;34m\u001b[0m\u001b[0m\n\u001b[0;32m--> 103\u001b[0;31m         \u001b[0;32mraise\u001b[0m \u001b[0mMessageError\u001b[0m\u001b[0;34m(\u001b[0m\u001b[0mreply\u001b[0m\u001b[0;34m[\u001b[0m\u001b[0;34m'error'\u001b[0m\u001b[0;34m]\u001b[0m\u001b[0;34m)\u001b[0m\u001b[0;34m\u001b[0m\u001b[0;34m\u001b[0m\u001b[0m\n\u001b[0m\u001b[1;32m    104\u001b[0m       \u001b[0;32mreturn\u001b[0m \u001b[0mreply\u001b[0m\u001b[0;34m.\u001b[0m\u001b[0mget\u001b[0m\u001b[0;34m(\u001b[0m\u001b[0;34m'data'\u001b[0m\u001b[0;34m,\u001b[0m \u001b[0;32mNone\u001b[0m\u001b[0;34m)\u001b[0m\u001b[0;34m\u001b[0m\u001b[0;34m\u001b[0m\u001b[0m\n\u001b[1;32m    105\u001b[0m \u001b[0;34m\u001b[0m\u001b[0m\n",
            "\u001b[0;31mMessageError\u001b[0m: Error: credential propagation was unsuccessful"
          ]
        }
      ]
    },
    {
      "cell_type": "code",
      "execution_count": null,
      "metadata": {
        "id": "yiIF3BGWj_YP"
      },
      "outputs": [],
      "source": [
        "!pip install mediapipe"
      ]
    },
    {
      "cell_type": "code",
      "source": [
        "import cv2\n",
        "import numpy as np\n",
        "import mediapipe as mp"
      ],
      "metadata": {
        "id": "-tcnkvm-kBaT"
      },
      "execution_count": null,
      "outputs": []
    },
    {
      "cell_type": "code",
      "source": [
        "mp_drawing = mp.solutions.drawing_utils\n",
        "mp_drawing_styles = mp.solutions.drawing_styles\n",
        "mp_holistic = mp.solutions.holistic"
      ],
      "metadata": {
        "id": "6OTRHQn2kKus"
      },
      "execution_count": null,
      "outputs": []
    },
    {
      "cell_type": "code",
      "source": [
        "selected_columns = [\"x_face_0\", \"x_face_61\", \"x_face_185\", \"x_face_40\", \"x_face_39\", \"x_face_37\", \"x_face_267\", \"x_face_269\", \"x_face_270\", \"x_face_409\", \"x_face_291\", \"x_face_146\", \"x_face_91\", \"x_face_181\", \"x_face_84\", \"x_face_17\", \"x_face_314\", \"x_face_405\", \"x_face_321\", \"x_face_375\", \"x_face_78\", \"x_face_191\", \"x_face_80\", \"x_face_81\", \"x_face_82\", \"x_face_13\", \"x_face_312\", \"x_face_311\", \"x_face_310\", \"x_face_415\", \"x_face_95\", \"x_face_88\", \"x_face_178\", \"x_face_87\", \"x_face_14\", \"x_face_317\", \"x_face_402\", \"x_face_318\", \"x_face_324\", \"x_face_308\", \"x_left_hand_0\", \"x_left_hand_1\", \"x_left_hand_2\", \"x_left_hand_3\", \"x_left_hand_4\", \"x_left_hand_5\", \"x_left_hand_6\", \"x_left_hand_7\", \"x_left_hand_8\", \"x_left_hand_9\", \"x_left_hand_10\", \"x_left_hand_11\", \"x_left_hand_12\", \"x_left_hand_13\", \"x_left_hand_14\", \"x_left_hand_15\", \"x_left_hand_16\", \"x_left_hand_17\", \"x_left_hand_18\", \"x_left_hand_19\", \"x_left_hand_20\", \"x_right_hand_0\", \"x_right_hand_1\", \"x_right_hand_2\", \"x_right_hand_3\", \"x_right_hand_4\", \"x_right_hand_5\", \"x_right_hand_6\", \"x_right_hand_7\", \"x_right_hand_8\", \"x_right_hand_9\", \"x_right_hand_10\", \"x_right_hand_11\", \"x_right_hand_12\", \"x_right_hand_13\", \"x_right_hand_14\", \"x_right_hand_15\", \"x_right_hand_16\", \"x_right_hand_17\", \"x_right_hand_18\", \"x_right_hand_19\", \"x_right_hand_20\", \"x_face_1\", \"x_face_2\", \"x_face_98\", \"x_face_327\", \"x_face_33\", \"x_face_7\", \"x_face_163\", \"x_face_144\", \"x_face_145\", \"x_face_153\", \"x_face_154\", \"x_face_155\", \"x_face_133\", \"x_face_246\", \"x_face_161\", \"x_face_160\", \"x_face_159\", \"x_face_158\", \"x_face_157\", \"x_face_173\", \"x_face_263\", \"x_face_249\", \"x_face_390\", \"x_face_373\", \"x_face_374\", \"x_face_380\", \"x_face_381\", \"x_face_382\", \"x_face_362\", \"x_face_466\", \"x_face_388\", \"x_face_387\", \"x_face_386\", \"x_face_385\", \"x_face_384\", \"x_face_398\", \"x_pose_12\", \"x_pose_14\", \"x_pose_16\", \"x_pose_18\", \"x_pose_20\", \"x_pose_22\", \"x_pose_11\", \"x_pose_13\", \"x_pose_15\", \"x_pose_17\", \"x_pose_19\", \"x_pose_21\", \"y_face_0\", \"y_face_61\", \"y_face_185\", \"y_face_40\", \"y_face_39\", \"y_face_37\", \"y_face_267\", \"y_face_269\", \"y_face_270\", \"y_face_409\", \"y_face_291\", \"y_face_146\", \"y_face_91\", \"y_face_181\", \"y_face_84\", \"y_face_17\", \"y_face_314\", \"y_face_405\", \"y_face_321\", \"y_face_375\", \"y_face_78\", \"y_face_191\", \"y_face_80\", \"y_face_81\", \"y_face_82\", \"y_face_13\", \"y_face_312\", \"y_face_311\", \"y_face_310\", \"y_face_415\", \"y_face_95\", \"y_face_88\", \"y_face_178\", \"y_face_87\", \"y_face_14\", \"y_face_317\", \"y_face_402\", \"y_face_318\", \"y_face_324\", \"y_face_308\", \"y_left_hand_0\", \"y_left_hand_1\", \"y_left_hand_2\", \"y_left_hand_3\", \"y_left_hand_4\", \"y_left_hand_5\", \"y_left_hand_6\", \"y_left_hand_7\", \"y_left_hand_8\", \"y_left_hand_9\", \"y_left_hand_10\", \"y_left_hand_11\", \"y_left_hand_12\", \"y_left_hand_13\", \"y_left_hand_14\", \"y_left_hand_15\", \"y_left_hand_16\", \"y_left_hand_17\", \"y_left_hand_18\", \"y_left_hand_19\", \"y_left_hand_20\", \"y_right_hand_0\", \"y_right_hand_1\", \"y_right_hand_2\", \"y_right_hand_3\", \"y_right_hand_4\", \"y_right_hand_5\", \"y_right_hand_6\", \"y_right_hand_7\", \"y_right_hand_8\", \"y_right_hand_9\", \"y_right_hand_10\", \"y_right_hand_11\", \"y_right_hand_12\", \"y_right_hand_13\", \"y_right_hand_14\", \"y_right_hand_15\", \"y_right_hand_16\", \"y_right_hand_17\", \"y_right_hand_18\", \"y_right_hand_19\", \"y_right_hand_20\", \"y_face_1\", \"y_face_2\", \"y_face_98\", \"y_face_327\", \"y_face_33\", \"y_face_7\", \"y_face_163\", \"y_face_144\", \"y_face_145\", \"y_face_153\", \"y_face_154\", \"y_face_155\", \"y_face_133\", \"y_face_246\", \"y_face_161\", \"y_face_160\", \"y_face_159\", \"y_face_158\", \"y_face_157\", \"y_face_173\", \"y_face_263\", \"y_face_249\", \"y_face_390\", \"y_face_373\", \"y_face_374\", \"y_face_380\", \"y_face_381\", \"y_face_382\", \"y_face_362\", \"y_face_466\", \"y_face_388\", \"y_face_387\", \"y_face_386\", \"y_face_385\", \"y_face_384\", \"y_face_398\", \"y_pose_12\", \"y_pose_14\", \"y_pose_16\", \"y_pose_18\", \"y_pose_20\", \"y_pose_22\", \"y_pose_11\", \"y_pose_13\", \"y_pose_15\", \"y_pose_17\", \"y_pose_19\", \"y_pose_21\", \"z_face_0\", \"z_face_61\", \"z_face_185\", \"z_face_40\", \"z_face_39\", \"z_face_37\", \"z_face_267\", \"z_face_269\", \"z_face_270\", \"z_face_409\", \"z_face_291\", \"z_face_146\", \"z_face_91\", \"z_face_181\", \"z_face_84\", \"z_face_17\", \"z_face_314\", \"z_face_405\", \"z_face_321\", \"z_face_375\", \"z_face_78\", \"z_face_191\", \"z_face_80\", \"z_face_81\", \"z_face_82\", \"z_face_13\", \"z_face_312\", \"z_face_311\", \"z_face_310\", \"z_face_415\", \"z_face_95\", \"z_face_88\", \"z_face_178\", \"z_face_87\", \"z_face_14\", \"z_face_317\", \"z_face_402\", \"z_face_318\", \"z_face_324\", \"z_face_308\", \"z_left_hand_0\", \"z_left_hand_1\", \"z_left_hand_2\", \"z_left_hand_3\", \"z_left_hand_4\", \"z_left_hand_5\", \"z_left_hand_6\", \"z_left_hand_7\", \"z_left_hand_8\", \"z_left_hand_9\", \"z_left_hand_10\", \"z_left_hand_11\", \"z_left_hand_12\", \"z_left_hand_13\", \"z_left_hand_14\", \"z_left_hand_15\", \"z_left_hand_16\", \"z_left_hand_17\", \"z_left_hand_18\", \"z_left_hand_19\", \"z_left_hand_20\", \"z_right_hand_0\", \"z_right_hand_1\", \"z_right_hand_2\", \"z_right_hand_3\", \"z_right_hand_4\", \"z_right_hand_5\", \"z_right_hand_6\", \"z_right_hand_7\", \"z_right_hand_8\", \"z_right_hand_9\", \"z_right_hand_10\", \"z_right_hand_11\", \"z_right_hand_12\", \"z_right_hand_13\", \"z_right_hand_14\", \"z_right_hand_15\", \"z_right_hand_16\", \"z_right_hand_17\", \"z_right_hand_18\", \"z_right_hand_19\", \"z_right_hand_20\", \"z_face_1\", \"z_face_2\", \"z_face_98\", \"z_face_327\", \"z_face_33\", \"z_face_7\", \"z_face_163\", \"z_face_144\", \"z_face_145\", \"z_face_153\", \"z_face_154\", \"z_face_155\", \"z_face_133\", \"z_face_246\", \"z_face_161\", \"z_face_160\", \"z_face_159\", \"z_face_158\", \"z_face_157\", \"z_face_173\", \"z_face_263\", \"z_face_249\", \"z_face_390\", \"z_face_373\", \"z_face_374\", \"z_face_380\", \"z_face_381\", \"z_face_382\", \"z_face_362\", \"z_face_466\", \"z_face_388\", \"z_face_387\", \"z_face_386\", \"z_face_385\", \"z_face_384\", \"z_face_398\", \"z_pose_12\", \"z_pose_14\", \"z_pose_16\", \"z_pose_18\", \"z_pose_20\", \"z_pose_22\", \"z_pose_11\", \"z_pose_13\", \"z_pose_15\", \"z_pose_17\", \"z_pose_19\", \"z_pose_21\"]"
      ],
      "metadata": {
        "id": "9ag867WC_PFJ"
      },
      "execution_count": null,
      "outputs": []
    },
    {
      "cell_type": "code",
      "source": [
        "prefix = \"/content/gdrive/MyDrive/ASL_fingerspelling_project/data/abc1/\""
      ],
      "metadata": {
        "id": "Jg6YpJhN5_n1"
      },
      "execution_count": null,
      "outputs": []
    },
    {
      "cell_type": "code",
      "source": [
        "import cv2\n",
        "import mediapipe as mp\n",
        "import pandas as pd\n",
        "import numpy as np\n",
        "mp_holistic = mp.solutions.holistic\n",
        "\n",
        "# Replace with your video file path\n",
        "video_path = prefix + \"video.mp4\"\n",
        "\n",
        "# Create an empty list to store landmark data\n",
        "data_list = []\n",
        "\n",
        "with mp_holistic.Holistic(\n",
        "    static_image_mode=True,\n",
        "    model_complexity=2,\n",
        "    enable_segmentation=True,\n",
        "    refine_face_landmarks=True) as holistic:\n",
        "\n",
        "    # Open the video capture\n",
        "    cap = cv2.VideoCapture(video_path)\n",
        "\n",
        "    # Process each video frame\n",
        "    while cap.isOpened():\n",
        "        success, image = cap.read()\n",
        "        if not success:\n",
        "            break\n",
        "\n",
        "        # Convert BGR to RGB for MediaPipe compatibility\n",
        "        image = cv2.cvtColor(image, cv2.COLOR_BGR2RGB)\n",
        "\n",
        "        # Process the image with MediaPipe Holistic\n",
        "        results = holistic.process(image)\n",
        "\n",
        "        # Extract the selected landmarks and their coordinates\n",
        "        landmark_data = []\n",
        "        for column in selected_columns:\n",
        "            splitted = column.split('_')\n",
        "            if len(splitted) == 3:\n",
        "              coordinate, category, landmark = splitted\n",
        "            else:\n",
        "              coordinate = splitted[0][0]\n",
        "              category = splitted[1]  + \"_\"+ splitted[2]\n",
        "              landmark = splitted[3]\n",
        "\n",
        "            if category == 'pose' and results.pose_landmarks :\n",
        "                tmp = getattr(results.pose_landmarks.landmark[int(landmark)],coordinate, None)\n",
        "            elif category == 'face' and results.face_landmarks:\n",
        "                tmp = getattr(results.face_landmarks.landmark[int(landmark)], coordinate, None)\n",
        "            elif category == 'left_hand' and results.left_hand_landmarks:\n",
        "                tmp= getattr(results.left_hand_landmarks.landmark[int(landmark)], coordinate, None)\n",
        "            elif category == 'right_hand' and results.right_hand_landmarks:\n",
        "                tmp = getattr(results.right_hand_landmarks.landmark[int(landmark)], coordinate, None)\n",
        "\n",
        "            landmark_data.append( np.float32(tmp))\n",
        "\n",
        "        # Append landmark data for this frame to the list\n",
        "        data_list.append(landmark_data)\n",
        "\n",
        "    # Release resources\n",
        "    cap.release()\n",
        "    cv2.destroyAllWindows()\n",
        "\n",
        "# Create a DataFrame from the data list\n",
        "df = pd.DataFrame(data_list, columns=selected_columns)\n",
        "\n",
        "# Save the DataFrame as a Parquet file\n",
        "df.to_parquet(prefix+\"output.parquet\", index=False)\n",
        "\n",
        "print(\"Landmark data saved to output.parquet\")\n"
      ],
      "metadata": {
        "id": "KxhwkIka7plT"
      },
      "execution_count": null,
      "outputs": []
    },
    {
      "cell_type": "markdown",
      "source": [
        "convert parquet to csv"
      ],
      "metadata": {
        "id": "apFXvW1Xz9yt"
      }
    },
    {
      "cell_type": "code",
      "source": [
        "df = pd.read_parquet(prefix+'output.parquet')\n",
        "df.to_csv(prefix+'output.csv')"
      ],
      "metadata": {
        "id": "71TS1uZCz9Hi"
      },
      "execution_count": null,
      "outputs": []
    }
  ]
}