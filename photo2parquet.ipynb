{
 "nbformat": 4,
 "nbformat_minor": 0,
 "metadata": {
  "colab": {
   "provenance": [],
   "include_colab_link": true
  },
  "kernelspec": {
   "name": "python3",
   "display_name": "Python 3 (ipykernel)",
   "language": "python"
  },
  "language_info": {
   "name": "python"
  }
 },
 "cells": [
  {
   "cell_type": "markdown",
   "metadata": {
    "id": "view-in-github",
    "colab_type": "text"
   },
   "source": [
    "<a href=\"https://colab.research.google.com/github/raizelgestetner/ASL_fingerspelling/blob/main/photo2parquet.ipynb\" target=\"_parent\"><img src=\"https://colab.research.google.com/assets/colab-badge.svg\" alt=\"Open In Colab\"/></a>"
   ]
  },
  {
   "cell_type": "markdown",
   "source": [
    "Adding some text"
   ],
   "metadata": {
    "id": "9hYwDhxklOrN"
   }
  },
  {
   "cell_type": "code",
   "source": [
    "from google.colab import drive\n",
    "drive.mount(\"/content/gdrive/\")"
   ],
   "metadata": {
    "colab": {
     "base_uri": "https://localhost:8080/"
    },
    "id": "enoyeVOVZsfu",
    "outputId": "06adb47e-4f36-47a1-9591-7c3f8629ce25"
   },
   "execution_count": null,
   "outputs": [
    {
     "output_type": "stream",
     "name": "stdout",
     "text": [
      "Mounted at /content/gdrive/\n"
     ]
    }
   ]
  },
  {
   "cell_type": "code",
   "metadata": {
    "id": "yiIF3BGWj_YP",
    "colab": {
     "base_uri": "https://localhost:8080/"
    },
    "outputId": "4dfafb08-f65a-43c2-a5f7-0b5c40d6d487",
    "ExecuteTime": {
     "end_time": "2024-05-06T10:45:27.108234Z",
     "start_time": "2024-05-06T10:38:29.834541Z"
    }
   },
   "source": [
    "!pip install mediapipe"
   ],
   "outputs": [
    {
     "name": "stdout",
     "output_type": "stream",
     "text": [
      "Looking in indexes: https://pypi.org/simple, https://pypi.ngc.nvidia.com\r\n",
      "Collecting mediapipe\r\n",
      "  Obtaining dependency information for mediapipe from https://files.pythonhosted.org/packages/db/de/ae16706867bd39de74fe81bb85c597f700248c90511e94230f6db5afa879/mediapipe-0.10.11-cp38-cp38-manylinux_2_17_x86_64.manylinux2014_x86_64.whl.metadata\r\n",
      "  Downloading mediapipe-0.10.11-cp38-cp38-manylinux_2_17_x86_64.manylinux2014_x86_64.whl.metadata (9.7 kB)\r\n",
      "Collecting absl-py (from mediapipe)\r\n",
      "  Obtaining dependency information for absl-py from https://files.pythonhosted.org/packages/a2/ad/e0d3c824784ff121c03cc031f944bc7e139a8f1870ffd2845cc2dd76f6c4/absl_py-2.1.0-py3-none-any.whl.metadata\r\n",
      "  Downloading absl_py-2.1.0-py3-none-any.whl.metadata (2.3 kB)\r\n",
      "Requirement already satisfied: attrs>=19.1.0 in ./venv/lib/python3.8/site-packages (from mediapipe) (23.2.0)\r\n",
      "Collecting flatbuffers>=2.0 (from mediapipe)\r\n",
      "  Obtaining dependency information for flatbuffers>=2.0 from https://files.pythonhosted.org/packages/41/f0/7e988a019bc54b2dbd0ad4182ef2d53488bb02e58694cd79d61369e85900/flatbuffers-24.3.25-py2.py3-none-any.whl.metadata\r\n",
      "  Downloading flatbuffers-24.3.25-py2.py3-none-any.whl.metadata (850 bytes)\r\n",
      "Collecting jax (from mediapipe)\r\n",
      "  Downloading jax-0.4.13.tar.gz (1.3 MB)\r\n",
      "\u001B[2K     \u001B[90m━━━━━━━━━━━━━━━━━━━━━━━━━━━━━━━━━━━━━━━━\u001B[0m \u001B[32m1.3/1.3 MB\u001B[0m \u001B[31m1.7 MB/s\u001B[0m eta \u001B[36m0:00:00\u001B[0m00:01\u001B[0m00:01\u001B[0m0m\r\n",
      "\u001B[?25h  Installing build dependencies ... \u001B[?25ldone\r\n",
      "\u001B[?25h  Getting requirements to build wheel ... \u001B[?25ldone\r\n",
      "\u001B[?25h  Preparing metadata (pyproject.toml) ... \u001B[?25ldone\r\n",
      "\u001B[?25hCollecting jaxlib (from mediapipe)\r\n",
      "  Obtaining dependency information for jaxlib from https://files.pythonhosted.org/packages/a8/f2/44921ec03f7e051ccd8831efa40ff3efb04f99b71411ab48ca48028a4e09/jaxlib-0.4.13-cp38-cp38-manylinux2014_x86_64.whl.metadata\r\n",
      "  Downloading jaxlib-0.4.13-cp38-cp38-manylinux2014_x86_64.whl.metadata (2.1 kB)\r\n",
      "Collecting matplotlib (from mediapipe)\r\n",
      "  Obtaining dependency information for matplotlib from https://files.pythonhosted.org/packages/30/33/cc27211d2ffeee4fd7402dca137b6e8a83f6dcae3d4be8d0ad5068555561/matplotlib-3.7.5-cp38-cp38-manylinux_2_12_x86_64.manylinux2010_x86_64.whl.metadata\r\n",
      "  Downloading matplotlib-3.7.5-cp38-cp38-manylinux_2_12_x86_64.manylinux2010_x86_64.whl.metadata (5.7 kB)\r\n",
      "Collecting numpy (from mediapipe)\r\n",
      "  Obtaining dependency information for numpy from https://files.pythonhosted.org/packages/98/5d/5738903efe0ecb73e51eb44feafba32bdba2081263d40c5043568ff60faf/numpy-1.24.4-cp38-cp38-manylinux_2_17_x86_64.manylinux2014_x86_64.whl.metadata\r\n",
      "  Downloading numpy-1.24.4-cp38-cp38-manylinux_2_17_x86_64.manylinux2014_x86_64.whl.metadata (5.6 kB)\r\n",
      "Collecting torch (from mediapipe)\r\n",
      "  Obtaining dependency information for torch from https://files.pythonhosted.org/packages/01/08/f944e6d04b3610aa3e177a55f2060492eb80d04392f025601c482def6f92/torch-2.3.0-cp38-cp38-manylinux1_x86_64.whl.metadata\r\n",
      "  Downloading torch-2.3.0-cp38-cp38-manylinux1_x86_64.whl.metadata (26 kB)\r\n",
      "Collecting opencv-contrib-python (from mediapipe)\r\n",
      "  Obtaining dependency information for opencv-contrib-python from https://files.pythonhosted.org/packages/8a/ea/aea6289058480b93157ad698ecd7f13cae4892ae0a4750abf33b3ac12f91/opencv_contrib_python-4.9.0.80-cp37-abi3-manylinux_2_17_x86_64.manylinux2014_x86_64.whl.metadata\r\n",
      "  Downloading opencv_contrib_python-4.9.0.80-cp37-abi3-manylinux_2_17_x86_64.manylinux2014_x86_64.whl.metadata (20 kB)\r\n",
      "Collecting protobuf<4,>=3.11 (from mediapipe)\r\n",
      "  Obtaining dependency information for protobuf<4,>=3.11 from https://files.pythonhosted.org/packages/da/e4/4d62585593e9f962cb02614534f62f930de6a80a0a3784282094a01919b2/protobuf-3.20.3-cp38-cp38-manylinux_2_5_x86_64.manylinux1_x86_64.whl.metadata\r\n",
      "  Downloading protobuf-3.20.3-cp38-cp38-manylinux_2_5_x86_64.manylinux1_x86_64.whl.metadata (679 bytes)\r\n",
      "Collecting sounddevice>=0.4.4 (from mediapipe)\r\n",
      "  Obtaining dependency information for sounddevice>=0.4.4 from https://files.pythonhosted.org/packages/d7/d5/f0a0aba169f23657c7af3f0c878db7413a9a3b113026fc759862a697c611/sounddevice-0.4.6-py3-none-any.whl.metadata\r\n",
      "  Downloading sounddevice-0.4.6-py3-none-any.whl.metadata (1.4 kB)\r\n",
      "Requirement already satisfied: CFFI>=1.0 in ./venv/lib/python3.8/site-packages (from sounddevice>=0.4.4->mediapipe) (1.16.0)\r\n",
      "Collecting ml-dtypes>=0.1.0 (from jax->mediapipe)\r\n",
      "  Obtaining dependency information for ml-dtypes>=0.1.0 from https://files.pythonhosted.org/packages/e7/db/16992470d8adc93e5230f01b0be8fe32a4eb25cd1c306a2efd1349d36d1a/ml_dtypes-0.2.0-cp38-cp38-manylinux_2_17_x86_64.manylinux2014_x86_64.whl.metadata\r\n",
      "  Downloading ml_dtypes-0.2.0-cp38-cp38-manylinux_2_17_x86_64.manylinux2014_x86_64.whl.metadata (20 kB)\r\n",
      "Collecting opt-einsum (from jax->mediapipe)\r\n",
      "  Obtaining dependency information for opt-einsum from https://files.pythonhosted.org/packages/bc/19/404708a7e54ad2798907210462fd950c3442ea51acc8790f3da48d2bee8b/opt_einsum-3.3.0-py3-none-any.whl.metadata\r\n",
      "  Downloading opt_einsum-3.3.0-py3-none-any.whl.metadata (6.5 kB)\r\n",
      "Collecting scipy>=1.7 (from jax->mediapipe)\r\n",
      "  Obtaining dependency information for scipy>=1.7 from https://files.pythonhosted.org/packages/69/f0/fb07a9548e48b687b8bf2fa81d71aba9cfc548d365046ca1c791e24db99d/scipy-1.10.1-cp38-cp38-manylinux_2_17_x86_64.manylinux2014_x86_64.whl.metadata\r\n",
      "  Downloading scipy-1.10.1-cp38-cp38-manylinux_2_17_x86_64.manylinux2014_x86_64.whl.metadata (58 kB)\r\n",
      "\u001B[2K     \u001B[90m━━━━━━━━━━━━━━━━━━━━━━━━━━━━━━━━━━━━━━━━\u001B[0m \u001B[32m58.9/58.9 kB\u001B[0m \u001B[31m9.3 MB/s\u001B[0m eta \u001B[36m0:00:00\u001B[0m\r\n",
      "\u001B[?25hRequirement already satisfied: importlib-metadata>=4.6 in ./venv/lib/python3.8/site-packages (from jax->mediapipe) (7.1.0)\r\n",
      "Collecting contourpy>=1.0.1 (from matplotlib->mediapipe)\r\n",
      "  Obtaining dependency information for contourpy>=1.0.1 from https://files.pythonhosted.org/packages/8e/71/7f20855592cc929bc206810432b991ec4c702dc26b0567b132e52c85536f/contourpy-1.1.1-cp38-cp38-manylinux_2_17_x86_64.manylinux2014_x86_64.whl.metadata\r\n",
      "  Downloading contourpy-1.1.1-cp38-cp38-manylinux_2_17_x86_64.manylinux2014_x86_64.whl.metadata (5.9 kB)\r\n",
      "Collecting cycler>=0.10 (from matplotlib->mediapipe)\r\n",
      "  Obtaining dependency information for cycler>=0.10 from https://files.pythonhosted.org/packages/e7/05/c19819d5e3d95294a6f5947fb9b9629efb316b96de511b418c53d245aae6/cycler-0.12.1-py3-none-any.whl.metadata\r\n",
      "  Downloading cycler-0.12.1-py3-none-any.whl.metadata (3.8 kB)\r\n",
      "Collecting fonttools>=4.22.0 (from matplotlib->mediapipe)\r\n",
      "  Obtaining dependency information for fonttools>=4.22.0 from https://files.pythonhosted.org/packages/4d/ed/130f017d3b599bb198f6d274d010c52c0e2dff6b1164eb4d683d973c46bf/fonttools-4.51.0-cp38-cp38-manylinux_2_17_x86_64.manylinux2014_x86_64.whl.metadata\r\n",
      "  Downloading fonttools-4.51.0-cp38-cp38-manylinux_2_17_x86_64.manylinux2014_x86_64.whl.metadata (159 kB)\r\n",
      "\u001B[2K     \u001B[90m━━━━━━━━━━━━━━━━━━━━━━━━━━━━━━━━━━━━━━━\u001B[0m \u001B[32m159.5/159.5 kB\u001B[0m \u001B[31m2.0 MB/s\u001B[0m eta \u001B[36m0:00:00\u001B[0ma \u001B[36m0:00:01\u001B[0m\r\n",
      "\u001B[?25hCollecting kiwisolver>=1.0.1 (from matplotlib->mediapipe)\r\n",
      "  Obtaining dependency information for kiwisolver>=1.0.1 from https://files.pythonhosted.org/packages/d2/55/7021ffcc8cb26a520bb051aa0a3d08daf200cde945e5863d5768161e2d3d/kiwisolver-1.4.5-cp38-cp38-manylinux_2_5_x86_64.manylinux1_x86_64.whl.metadata\r\n",
      "  Downloading kiwisolver-1.4.5-cp38-cp38-manylinux_2_5_x86_64.manylinux1_x86_64.whl.metadata (6.4 kB)\r\n",
      "Requirement already satisfied: packaging>=20.0 in ./venv/lib/python3.8/site-packages (from matplotlib->mediapipe) (24.0)\r\n",
      "Collecting pillow>=6.2.0 (from matplotlib->mediapipe)\r\n",
      "  Obtaining dependency information for pillow>=6.2.0 from https://files.pythonhosted.org/packages/63/c3/1ed3472168c4f884356cc995b7a82772f19a96accf6fa625bad1ce9c0cdf/pillow-10.3.0-cp38-cp38-manylinux_2_28_x86_64.whl.metadata\r\n",
      "  Downloading pillow-10.3.0-cp38-cp38-manylinux_2_28_x86_64.whl.metadata (9.2 kB)\r\n",
      "Collecting pyparsing>=2.3.1 (from matplotlib->mediapipe)\r\n",
      "  Obtaining dependency information for pyparsing>=2.3.1 from https://files.pythonhosted.org/packages/9d/ea/6d76df31432a0e6fdf81681a895f009a4bb47b3c39036db3e1b528191d52/pyparsing-3.1.2-py3-none-any.whl.metadata\r\n",
      "  Downloading pyparsing-3.1.2-py3-none-any.whl.metadata (5.1 kB)\r\n",
      "Requirement already satisfied: python-dateutil>=2.7 in ./venv/lib/python3.8/site-packages (from matplotlib->mediapipe) (2.9.0.post0)\r\n",
      "Requirement already satisfied: importlib-resources>=3.2.0 in ./venv/lib/python3.8/site-packages (from matplotlib->mediapipe) (6.4.0)\r\n",
      "Collecting filelock (from torch->mediapipe)\r\n",
      "  Obtaining dependency information for filelock from https://files.pythonhosted.org/packages/41/24/0b023b6537dfc9bae2c779353998e3e99ac7dfff4222fc6126650e93c3f3/filelock-3.14.0-py3-none-any.whl.metadata\r\n",
      "  Downloading filelock-3.14.0-py3-none-any.whl.metadata (2.8 kB)\r\n",
      "Requirement already satisfied: typing-extensions>=4.8.0 in ./venv/lib/python3.8/site-packages (from torch->mediapipe) (4.11.0)\r\n",
      "Collecting sympy (from torch->mediapipe)\r\n",
      "  Obtaining dependency information for sympy from https://files.pythonhosted.org/packages/d2/05/e6600db80270777c4a64238a98d442f0fd07cc8915be2a1c16da7f2b9e74/sympy-1.12-py3-none-any.whl.metadata\r\n",
      "  Downloading sympy-1.12-py3-none-any.whl.metadata (12 kB)\r\n",
      "Collecting networkx (from torch->mediapipe)\r\n",
      "  Obtaining dependency information for networkx from https://files.pythonhosted.org/packages/a8/05/9d4f9b78ead6b2661d6e8ea772e111fc4a9fbd866ad0c81906c11206b55e/networkx-3.1-py3-none-any.whl.metadata\r\n",
      "  Downloading networkx-3.1-py3-none-any.whl.metadata (5.3 kB)\r\n",
      "Requirement already satisfied: jinja2 in ./venv/lib/python3.8/site-packages (from torch->mediapipe) (3.1.4)\r\n",
      "Collecting fsspec (from torch->mediapipe)\r\n",
      "  Obtaining dependency information for fsspec from https://files.pythonhosted.org/packages/93/6d/66d48b03460768f523da62a57a7e14e5e95fdf339d79e996ce3cecda2cdb/fsspec-2024.3.1-py3-none-any.whl.metadata\r\n",
      "  Downloading fsspec-2024.3.1-py3-none-any.whl.metadata (6.8 kB)\r\n",
      "Collecting nvidia-cuda-nvrtc-cu12==12.1.105 (from torch->mediapipe)\r\n",
      "  Obtaining dependency information for nvidia-cuda-nvrtc-cu12==12.1.105 from https://files.pythonhosted.org/packages/b6/9f/c64c03f49d6fbc56196664d05dba14e3a561038a81a638eeb47f4d4cfd48/nvidia_cuda_nvrtc_cu12-12.1.105-py3-none-manylinux1_x86_64.whl.metadata\r\n",
      "  Downloading nvidia_cuda_nvrtc_cu12-12.1.105-py3-none-manylinux1_x86_64.whl.metadata (1.5 kB)\r\n",
      "Collecting nvidia-cuda-runtime-cu12==12.1.105 (from torch->mediapipe)\r\n",
      "  Obtaining dependency information for nvidia-cuda-runtime-cu12==12.1.105 from https://files.pythonhosted.org/packages/eb/d5/c68b1d2cdfcc59e72e8a5949a37ddb22ae6cade80cd4a57a84d4c8b55472/nvidia_cuda_runtime_cu12-12.1.105-py3-none-manylinux1_x86_64.whl.metadata\r\n",
      "  Downloading nvidia_cuda_runtime_cu12-12.1.105-py3-none-manylinux1_x86_64.whl.metadata (1.5 kB)\r\n",
      "Collecting nvidia-cuda-cupti-cu12==12.1.105 (from torch->mediapipe)\r\n",
      "  Obtaining dependency information for nvidia-cuda-cupti-cu12==12.1.105 from https://files.pythonhosted.org/packages/7e/00/6b218edd739ecfc60524e585ba8e6b00554dd908de2c9c66c1af3e44e18d/nvidia_cuda_cupti_cu12-12.1.105-py3-none-manylinux1_x86_64.whl.metadata\r\n",
      "  Downloading nvidia_cuda_cupti_cu12-12.1.105-py3-none-manylinux1_x86_64.whl.metadata (1.6 kB)\r\n",
      "Collecting nvidia-cudnn-cu12==8.9.2.26 (from torch->mediapipe)\r\n",
      "  Obtaining dependency information for nvidia-cudnn-cu12==8.9.2.26 from https://files.pythonhosted.org/packages/ff/74/a2e2be7fb83aaedec84f391f082cf765dfb635e7caa9b49065f73e4835d8/nvidia_cudnn_cu12-8.9.2.26-py3-none-manylinux1_x86_64.whl.metadata\r\n",
      "  Downloading nvidia_cudnn_cu12-8.9.2.26-py3-none-manylinux1_x86_64.whl.metadata (1.6 kB)\r\n",
      "Collecting nvidia-cublas-cu12==12.1.3.1 (from torch->mediapipe)\r\n",
      "  Obtaining dependency information for nvidia-cublas-cu12==12.1.3.1 from https://files.pythonhosted.org/packages/37/6d/121efd7382d5b0284239f4ab1fc1590d86d34ed4a4a2fdb13b30ca8e5740/nvidia_cublas_cu12-12.1.3.1-py3-none-manylinux1_x86_64.whl.metadata\r\n",
      "  Downloading nvidia_cublas_cu12-12.1.3.1-py3-none-manylinux1_x86_64.whl.metadata (1.5 kB)\r\n",
      "Collecting nvidia-cufft-cu12==11.0.2.54 (from torch->mediapipe)\r\n",
      "  Obtaining dependency information for nvidia-cufft-cu12==11.0.2.54 from https://files.pythonhosted.org/packages/86/94/eb540db023ce1d162e7bea9f8f5aa781d57c65aed513c33ee9a5123ead4d/nvidia_cufft_cu12-11.0.2.54-py3-none-manylinux1_x86_64.whl.metadata\r\n",
      "  Downloading nvidia_cufft_cu12-11.0.2.54-py3-none-manylinux1_x86_64.whl.metadata (1.5 kB)\r\n",
      "Collecting nvidia-curand-cu12==10.3.2.106 (from torch->mediapipe)\r\n",
      "  Obtaining dependency information for nvidia-curand-cu12==10.3.2.106 from https://files.pythonhosted.org/packages/44/31/4890b1c9abc496303412947fc7dcea3d14861720642b49e8ceed89636705/nvidia_curand_cu12-10.3.2.106-py3-none-manylinux1_x86_64.whl.metadata\r\n",
      "  Downloading nvidia_curand_cu12-10.3.2.106-py3-none-manylinux1_x86_64.whl.metadata (1.5 kB)\r\n",
      "Collecting nvidia-cusolver-cu12==11.4.5.107 (from torch->mediapipe)\r\n",
      "  Obtaining dependency information for nvidia-cusolver-cu12==11.4.5.107 from https://files.pythonhosted.org/packages/bc/1d/8de1e5c67099015c834315e333911273a8c6aaba78923dd1d1e25fc5f217/nvidia_cusolver_cu12-11.4.5.107-py3-none-manylinux1_x86_64.whl.metadata\r\n",
      "  Downloading nvidia_cusolver_cu12-11.4.5.107-py3-none-manylinux1_x86_64.whl.metadata (1.6 kB)\r\n",
      "Collecting nvidia-cusparse-cu12==12.1.0.106 (from torch->mediapipe)\r\n",
      "  Obtaining dependency information for nvidia-cusparse-cu12==12.1.0.106 from https://files.pythonhosted.org/packages/65/5b/cfaeebf25cd9fdec14338ccb16f6b2c4c7fa9163aefcf057d86b9cc248bb/nvidia_cusparse_cu12-12.1.0.106-py3-none-manylinux1_x86_64.whl.metadata\r\n",
      "  Downloading nvidia_cusparse_cu12-12.1.0.106-py3-none-manylinux1_x86_64.whl.metadata (1.6 kB)\r\n",
      "Collecting nvidia-nccl-cu12==2.20.5 (from torch->mediapipe)\r\n",
      "  Obtaining dependency information for nvidia-nccl-cu12==2.20.5 from https://files.pythonhosted.org/packages/4b/2a/0a131f572aa09f741c30ccd45a8e56316e8be8dfc7bc19bf0ab7cfef7b19/nvidia_nccl_cu12-2.20.5-py3-none-manylinux2014_x86_64.whl.metadata\r\n",
      "  Downloading nvidia_nccl_cu12-2.20.5-py3-none-manylinux2014_x86_64.whl.metadata (1.8 kB)\r\n",
      "Collecting nvidia-nvtx-cu12==12.1.105 (from torch->mediapipe)\r\n",
      "  Obtaining dependency information for nvidia-nvtx-cu12==12.1.105 from https://files.pythonhosted.org/packages/da/d3/8057f0587683ed2fcd4dbfbdfdfa807b9160b809976099d36b8f60d08f03/nvidia_nvtx_cu12-12.1.105-py3-none-manylinux1_x86_64.whl.metadata\r\n",
      "  Downloading nvidia_nvtx_cu12-12.1.105-py3-none-manylinux1_x86_64.whl.metadata (1.7 kB)\r\n",
      "Collecting triton==2.3.0 (from torch->mediapipe)\r\n",
      "  Obtaining dependency information for triton==2.3.0 from https://files.pythonhosted.org/packages/07/94/56da1c8082d4e1f5c8f76447a67cd857bc8f011339e69e2fffdbfc116f51/triton-2.3.0-cp38-cp38-manylinux_2_17_x86_64.manylinux2014_x86_64.whl.metadata\r\n",
      "  Downloading triton-2.3.0-cp38-cp38-manylinux_2_17_x86_64.manylinux2014_x86_64.whl.metadata (1.4 kB)\r\n",
      "Collecting nvidia-nvjitlink-cu12 (from nvidia-cusolver-cu12==11.4.5.107->torch->mediapipe)\r\n",
      "  Obtaining dependency information for nvidia-nvjitlink-cu12 from https://files.pythonhosted.org/packages/ff/ff/847841bacfbefc97a00036e0fce5a0f086b640756dc38caea5e1bb002655/nvidia_nvjitlink_cu12-12.4.127-py3-none-manylinux2014_x86_64.whl.metadata\r\n",
      "  Downloading nvidia_nvjitlink_cu12-12.4.127-py3-none-manylinux2014_x86_64.whl.metadata (1.5 kB)\r\n",
      "Requirement already satisfied: pycparser in ./venv/lib/python3.8/site-packages (from CFFI>=1.0->sounddevice>=0.4.4->mediapipe) (2.22)\r\n",
      "Requirement already satisfied: zipp>=0.5 in ./venv/lib/python3.8/site-packages (from importlib-metadata>=4.6->jax->mediapipe) (3.18.1)\r\n",
      "Requirement already satisfied: six>=1.5 in ./venv/lib/python3.8/site-packages (from python-dateutil>=2.7->matplotlib->mediapipe) (1.16.0)\r\n",
      "Requirement already satisfied: MarkupSafe>=2.0 in ./venv/lib/python3.8/site-packages (from jinja2->torch->mediapipe) (2.1.5)\r\n",
      "Collecting mpmath>=0.19 (from sympy->torch->mediapipe)\r\n",
      "  Obtaining dependency information for mpmath>=0.19 from https://files.pythonhosted.org/packages/43/e3/7d92a15f894aa0c9c4b49b8ee9ac9850d6e63b03c9c32c0367a13ae62209/mpmath-1.3.0-py3-none-any.whl.metadata\r\n",
      "  Downloading mpmath-1.3.0-py3-none-any.whl.metadata (8.6 kB)\r\n",
      "Downloading mediapipe-0.10.11-cp38-cp38-manylinux_2_17_x86_64.manylinux2014_x86_64.whl (35.6 MB)\r\n",
      "\u001B[2K   \u001B[90m━━━━━━━━━━━━━━━━━━━━━━━━━━━━━━━━━━━━━━━━\u001B[0m \u001B[32m35.6/35.6 MB\u001B[0m \u001B[31m8.3 MB/s\u001B[0m eta \u001B[36m0:00:00\u001B[0m00:01\u001B[0m00:01\u001B[0m\r\n",
      "\u001B[?25hDownloading flatbuffers-24.3.25-py2.py3-none-any.whl (26 kB)\r\n",
      "Downloading protobuf-3.20.3-cp38-cp38-manylinux_2_5_x86_64.manylinux1_x86_64.whl (1.0 MB)\r\n",
      "\u001B[2K   \u001B[90m━━━━━━━━━━━━━━━━━━━━━━━━━━━━━━━━━━━━━━━━\u001B[0m \u001B[32m1.0/1.0 MB\u001B[0m \u001B[31m15.8 MB/s\u001B[0m eta \u001B[36m0:00:00\u001B[0ma \u001B[36m0:00:01\u001B[0m\r\n",
      "\u001B[?25hDownloading sounddevice-0.4.6-py3-none-any.whl (31 kB)\r\n",
      "Downloading absl_py-2.1.0-py3-none-any.whl (133 kB)\r\n",
      "\u001B[2K   \u001B[90m━━━━━━━━━━━━━━━━━━━━━━━━━━━━━━━━━━━━━━━━\u001B[0m \u001B[32m133.7/133.7 kB\u001B[0m \u001B[31m9.7 MB/s\u001B[0m eta \u001B[36m0:00:00\u001B[0m\r\n",
      "\u001B[?25hDownloading numpy-1.24.4-cp38-cp38-manylinux_2_17_x86_64.manylinux2014_x86_64.whl (17.3 MB)\r\n",
      "\u001B[2K   \u001B[90m━━━━━━━━━━━━━━━━━━━━━━━━━━━━━━━━━━━━━━━━\u001B[0m \u001B[32m17.3/17.3 MB\u001B[0m \u001B[31m13.0 MB/s\u001B[0m eta \u001B[36m0:00:00\u001B[0m00:01\u001B[0m00:01\u001B[0m\r\n",
      "\u001B[?25hDownloading jaxlib-0.4.13-cp38-cp38-manylinux2014_x86_64.whl (71.6 MB)\r\n",
      "\u001B[2K   \u001B[90m━━━━━━━━━━━━━━━━━━━━━━━━━━━━━━━━━━━━━━━━\u001B[0m \u001B[32m71.6/71.6 MB\u001B[0m \u001B[31m11.5 MB/s\u001B[0m eta \u001B[36m0:00:00\u001B[0m00:01\u001B[0m00:01\u001B[0m\r\n",
      "\u001B[?25hDownloading matplotlib-3.7.5-cp38-cp38-manylinux_2_12_x86_64.manylinux2010_x86_64.whl (9.2 MB)\r\n",
      "\u001B[2K   \u001B[90m━━━━━━━━━━━━━━━━━━━━━━━━━━━━━━━━━━━━━━━━\u001B[0m \u001B[32m9.2/9.2 MB\u001B[0m \u001B[31m16.5 MB/s\u001B[0m eta \u001B[36m0:00:00\u001B[0m00:01\u001B[0m00:01\u001B[0m\r\n",
      "\u001B[?25hDownloading opencv_contrib_python-4.9.0.80-cp37-abi3-manylinux_2_17_x86_64.manylinux2014_x86_64.whl (68.3 MB)\r\n",
      "\u001B[2K   \u001B[90m━━━━━━━━━━━━━━━━━━━━━━━━━━━━━━━━━━━━━━━━\u001B[0m \u001B[32m68.3/68.3 MB\u001B[0m \u001B[31m17.5 MB/s\u001B[0m eta \u001B[36m0:00:00\u001B[0m00:01\u001B[0m00:01\u001B[0m\r\n",
      "\u001B[?25hDownloading torch-2.3.0-cp38-cp38-manylinux1_x86_64.whl (779.1 MB)\r\n",
      "\u001B[2K   \u001B[90m━━━━━━━━━━━━━━━━━━━━━━━━━━━━━━━━━━━━━━━━\u001B[0m \u001B[32m779.1/779.1 MB\u001B[0m \u001B[31m7.6 MB/s\u001B[0m eta \u001B[36m0:00:00\u001B[0m00:01\u001B[0mm00:02\u001B[0m\r\n",
      "\u001B[?25hDownloading nvidia_cublas_cu12-12.1.3.1-py3-none-manylinux1_x86_64.whl (410.6 MB)\r\n",
      "\u001B[2K   \u001B[90m━━━━━━━━━━━━━━━━━━━━━━━━━━━━━━━━━━━━━━━━\u001B[0m \u001B[32m410.6/410.6 MB\u001B[0m \u001B[31m2.7 MB/s\u001B[0m eta \u001B[36m0:00:00\u001B[0m00:01\u001B[0m00:06\u001B[0mm\r\n",
      "\u001B[?25hDownloading nvidia_cuda_cupti_cu12-12.1.105-py3-none-manylinux1_x86_64.whl (14.1 MB)\r\n",
      "\u001B[2K   \u001B[90m━━━━━━━━━━━━━━━━━━━━━━━━━━━━━━━━━━━━━━━━\u001B[0m \u001B[32m14.1/14.1 MB\u001B[0m \u001B[31m3.0 MB/s\u001B[0m eta \u001B[36m0:00:00\u001B[0m00:01\u001B[0m00:01\u001B[0m\r\n",
      "\u001B[?25hDownloading nvidia_cuda_nvrtc_cu12-12.1.105-py3-none-manylinux1_x86_64.whl (23.7 MB)\r\n",
      "\u001B[2K   \u001B[90m━━━━━━━━━━━━━━━━━━━━━━━━━━━━━━━━━━━━━━━━\u001B[0m \u001B[32m23.7/23.7 MB\u001B[0m \u001B[31m3.7 MB/s\u001B[0m eta \u001B[36m0:00:00\u001B[0m00:01\u001B[0m00:01\u001B[0m\r\n",
      "\u001B[?25hDownloading nvidia_cuda_runtime_cu12-12.1.105-py3-none-manylinux1_x86_64.whl (823 kB)\r\n",
      "\u001B[2K   \u001B[90m━━━━━━━━━━━━━━━━━━━━━━━━━━━━━━━━━━━━━━━━\u001B[0m \u001B[32m823.6/823.6 kB\u001B[0m \u001B[31m6.2 MB/s\u001B[0m eta \u001B[36m0:00:00\u001B[0ma \u001B[36m0:00:01\u001B[0m\r\n",
      "\u001B[?25hDownloading nvidia_cudnn_cu12-8.9.2.26-py3-none-manylinux1_x86_64.whl (731.7 MB)\r\n",
      "\u001B[2K   \u001B[90m━━━━━━━━━━━━━━━━━━━━━━━━━━━━━━━━━━━━━━━━\u001B[0m \u001B[32m731.7/731.7 MB\u001B[0m \u001B[31m24.2 MB/s\u001B[0m eta \u001B[36m0:00:00\u001B[0m00:01\u001B[0m0:02\u001B[0mm\r\n",
      "\u001B[?25hDownloading nvidia_cufft_cu12-11.0.2.54-py3-none-manylinux1_x86_64.whl (121.6 MB)\r\n",
      "\u001B[2K   \u001B[90m━━━━━━━━━━━━━━━━━━━━━━━━━━━━━━━━━━━━━━━━\u001B[0m \u001B[32m121.6/121.6 MB\u001B[0m \u001B[31m21.7 MB/s\u001B[0m eta \u001B[36m0:00:00\u001B[0m00:01\u001B[0m00:01\u001B[0m\r\n",
      "\u001B[?25hDownloading nvidia_curand_cu12-10.3.2.106-py3-none-manylinux1_x86_64.whl (56.5 MB)\r\n",
      "\u001B[2K   \u001B[90m━━━━━━━━━━━━━━━━━━━━━━━━━━━━━━━━━━━━━━━━\u001B[0m \u001B[32m56.5/56.5 MB\u001B[0m \u001B[31m21.0 MB/s\u001B[0m eta \u001B[36m0:00:00\u001B[0m00:01\u001B[0m00:01\u001B[0m\r\n",
      "\u001B[?25hDownloading nvidia_cusolver_cu12-11.4.5.107-py3-none-manylinux1_x86_64.whl (124.2 MB)\r\n",
      "\u001B[2K   \u001B[90m━━━━━━━━━━━━━━━━━━━━━━━━━━━━━━━━━━━━━━━━\u001B[0m \u001B[32m124.2/124.2 MB\u001B[0m \u001B[31m10.7 MB/s\u001B[0m eta \u001B[36m0:00:00\u001B[0m00:01\u001B[0m00:01\u001B[0m\r\n",
      "\u001B[?25hDownloading nvidia_cusparse_cu12-12.1.0.106-py3-none-manylinux1_x86_64.whl (196.0 MB)\r\n",
      "\u001B[2K   \u001B[90m━━━━━━━━━━━━━━━━━━━━━━━━━━━━━━━━━━━━━━━━\u001B[0m \u001B[32m196.0/196.0 MB\u001B[0m \u001B[31m12.1 MB/s\u001B[0m eta \u001B[36m0:00:00\u001B[0m00:01\u001B[0m00:01\u001B[0m\r\n",
      "\u001B[?25hDownloading nvidia_nccl_cu12-2.20.5-py3-none-manylinux2014_x86_64.whl (176.2 MB)\r\n",
      "\u001B[2K   \u001B[90m━━━━━━━━━━━━━━━━━━━━━━━━━━━━━━━━━━━━━━━━\u001B[0m \u001B[32m176.2/176.2 MB\u001B[0m \u001B[31m14.0 MB/s\u001B[0m eta \u001B[36m0:00:00\u001B[0m00:01\u001B[0m00:01\u001B[0m\r\n",
      "\u001B[?25hDownloading nvidia_nvtx_cu12-12.1.105-py3-none-manylinux1_x86_64.whl (99 kB)\r\n",
      "\u001B[2K   \u001B[90m━━━━━━━━━━━━━━━━━━━━━━━━━━━━━━━━━━━━━━━━\u001B[0m \u001B[32m99.1/99.1 kB\u001B[0m \u001B[31m165.4 MB/s\u001B[0m eta \u001B[36m0:00:00\u001B[0m\r\n",
      "\u001B[?25hDownloading triton-2.3.0-cp38-cp38-manylinux_2_17_x86_64.manylinux2014_x86_64.whl (168.0 MB)\r\n",
      "\u001B[2K   \u001B[90m━━━━━━━━━━━━━━━━━━━━━━━━━━━━━━━━━━━━━━━━\u001B[0m \u001B[32m168.0/168.0 MB\u001B[0m \u001B[31m16.2 MB/s\u001B[0m eta \u001B[36m0:00:00\u001B[0m00:01\u001B[0m00:01\u001B[0m\r\n",
      "\u001B[?25hDownloading contourpy-1.1.1-cp38-cp38-manylinux_2_17_x86_64.manylinux2014_x86_64.whl (301 kB)\r\n",
      "\u001B[2K   \u001B[90m━━━━━━━━━━━━━━━━━━━━━━━━━━━━━━━━━━━━━━━━\u001B[0m \u001B[32m301.1/301.1 kB\u001B[0m \u001B[31m13.3 MB/s\u001B[0m eta \u001B[36m0:00:00\u001B[0m\r\n",
      "\u001B[?25hDownloading cycler-0.12.1-py3-none-any.whl (8.3 kB)\r\n",
      "Downloading fonttools-4.51.0-cp38-cp38-manylinux_2_17_x86_64.manylinux2014_x86_64.whl (4.7 MB)\r\n",
      "\u001B[2K   \u001B[90m━━━━━━━━━━━━━━━━━━━━━━━━━━━━━━━━━━━━━━━━\u001B[0m \u001B[32m4.7/4.7 MB\u001B[0m \u001B[31m17.6 MB/s\u001B[0m eta \u001B[36m0:00:00\u001B[0ma \u001B[36m0:00:01\u001B[0m\r\n",
      "\u001B[?25hDownloading kiwisolver-1.4.5-cp38-cp38-manylinux_2_5_x86_64.manylinux1_x86_64.whl (1.2 MB)\r\n",
      "\u001B[2K   \u001B[90m━━━━━━━━━━━━━━━━━━━━━━━━━━━━━━━━━━━━━━━━\u001B[0m \u001B[32m1.2/1.2 MB\u001B[0m \u001B[31m49.8 MB/s\u001B[0m eta \u001B[36m0:00:00\u001B[0m\r\n",
      "\u001B[?25hDownloading ml_dtypes-0.2.0-cp38-cp38-manylinux_2_17_x86_64.manylinux2014_x86_64.whl (1.0 MB)\r\n",
      "\u001B[2K   \u001B[90m━━━━━━━━━━━━━━━━━━━━━━━━━━━━━━━━━━━━━━━━\u001B[0m \u001B[32m1.0/1.0 MB\u001B[0m \u001B[31m15.9 MB/s\u001B[0m eta \u001B[36m0:00:00\u001B[0ma \u001B[36m0:00:01\u001B[0m\r\n",
      "\u001B[?25hDownloading pillow-10.3.0-cp38-cp38-manylinux_2_28_x86_64.whl (4.5 MB)\r\n",
      "\u001B[2K   \u001B[90m━━━━━━━━━━━━━━━━━━━━━━━━━━━━━━━━━━━━━━━━\u001B[0m \u001B[32m4.5/4.5 MB\u001B[0m \u001B[31m19.0 MB/s\u001B[0m eta \u001B[36m0:00:00\u001B[0ma \u001B[36m0:00:01\u001B[0m\r\n",
      "\u001B[?25hDownloading pyparsing-3.1.2-py3-none-any.whl (103 kB)\r\n",
      "\u001B[2K   \u001B[90m━━━━━━━━━━━━━━━━━━━━━━━━━━━━━━━━━━━━━━━\u001B[0m \u001B[32m103.2/103.2 kB\u001B[0m \u001B[31m224.0 MB/s\u001B[0m eta \u001B[36m0:00:00\u001B[0m\r\n",
      "\u001B[?25hDownloading scipy-1.10.1-cp38-cp38-manylinux_2_17_x86_64.manylinux2014_x86_64.whl (34.5 MB)\r\n",
      "\u001B[2K   \u001B[90m━━━━━━━━━━━━━━━━━━━━━━━━━━━━━━━━━━━━━━━━\u001B[0m \u001B[32m34.5/34.5 MB\u001B[0m \u001B[31m9.2 MB/s\u001B[0m eta \u001B[36m0:00:00\u001B[0ma \u001B[36m0:00:01\u001B[0mm\r\n",
      "\u001B[?25hDownloading filelock-3.14.0-py3-none-any.whl (12 kB)\r\n",
      "Downloading fsspec-2024.3.1-py3-none-any.whl (171 kB)\r\n",
      "\u001B[2K   \u001B[90m━━━━━━━━━━━━━━━━━━━━━━━━━━━━━━━━━━━━━━━━\u001B[0m \u001B[32m172.0/172.0 kB\u001B[0m \u001B[31m23.5 MB/s\u001B[0m eta \u001B[36m0:00:00\u001B[0m\r\n",
      "\u001B[?25hDownloading networkx-3.1-py3-none-any.whl (2.1 MB)\r\n",
      "\u001B[2K   \u001B[90m━━━━━━━━━━━━━━━━━━━━━━━━━━━━━━━━━━━━━━━━\u001B[0m \u001B[32m2.1/2.1 MB\u001B[0m \u001B[31m15.4 MB/s\u001B[0m eta \u001B[36m0:00:00\u001B[0ma \u001B[36m0:00:01\u001B[0m\r\n",
      "\u001B[?25hDownloading opt_einsum-3.3.0-py3-none-any.whl (65 kB)\r\n",
      "\u001B[2K   \u001B[90m━━━━━━━━━━━━━━━━━━━━━━━━━━━━━━━━━━━━━━━━\u001B[0m \u001B[32m65.5/65.5 kB\u001B[0m \u001B[31m255.7 MB/s\u001B[0m eta \u001B[36m0:00:00\u001B[0m\r\n",
      "\u001B[?25hDownloading sympy-1.12-py3-none-any.whl (5.7 MB)\r\n",
      "\u001B[2K   \u001B[90m━━━━━━━━━━━━━━━━━━━━━━━━━━━━━━━━━━━━━━━━\u001B[0m \u001B[32m5.7/5.7 MB\u001B[0m \u001B[31m12.4 MB/s\u001B[0m eta \u001B[36m0:00:00\u001B[0ma \u001B[36m0:00:01\u001B[0m\r\n",
      "\u001B[?25hDownloading mpmath-1.3.0-py3-none-any.whl (536 kB)\r\n",
      "\u001B[2K   \u001B[90m━━━━━━━━━━━━━━━━━━━━━━━━━━━━━━━━━━━━━━━━\u001B[0m \u001B[32m536.2/536.2 kB\u001B[0m \u001B[31m18.6 MB/s\u001B[0m eta \u001B[36m0:00:00\u001B[0m\r\n",
      "\u001B[?25hDownloading nvidia_nvjitlink_cu12-12.4.127-py3-none-manylinux2014_x86_64.whl (21.1 MB)\r\n",
      "\u001B[2K   \u001B[90m━━━━━━━━━━━━━━━━━━━━━━━━━━━━━━━━━━━━━━━━\u001B[0m \u001B[32m21.1/21.1 MB\u001B[0m \u001B[31m7.7 MB/s\u001B[0m eta \u001B[36m0:00:00\u001B[0m00:01\u001B[0m00:01\u001B[0mm\r\n",
      "\u001B[?25hBuilding wheels for collected packages: jax\r\n",
      "  Building wheel for jax (pyproject.toml) ... \u001B[?25ldone\r\n",
      "\u001B[?25h  Created wheel for jax: filename=jax-0.4.13-py3-none-any.whl size=1518704 sha256=553e4dfc3c939291a6b84d92b84159d3e0826fc5389b1263d9915d5cba712107\r\n",
      "  Stored in directory: /tmp/pip-ephem-wheel-cache-0fdjd51i/wheels/46/d9/15/d2800d4089dc4c77299ac7513c6aa1036f5491edbd2bf6ba16\r\n",
      "Successfully built jax\r\n",
      "Installing collected packages: mpmath, flatbuffers, sympy, pyparsing, protobuf, pillow, nvidia-nvtx-cu12, nvidia-nvjitlink-cu12, nvidia-nccl-cu12, nvidia-curand-cu12, nvidia-cufft-cu12, nvidia-cuda-runtime-cu12, nvidia-cuda-nvrtc-cu12, nvidia-cuda-cupti-cu12, nvidia-cublas-cu12, numpy, networkx, kiwisolver, fsspec, fonttools, filelock, cycler, absl-py, triton, sounddevice, scipy, opt-einsum, opencv-contrib-python, nvidia-cusparse-cu12, nvidia-cudnn-cu12, ml-dtypes, contourpy, nvidia-cusolver-cu12, matplotlib, jaxlib, jax, torch, mediapipe\r\n",
      "Successfully installed absl-py-2.1.0 contourpy-1.1.1 cycler-0.12.1 filelock-3.14.0 flatbuffers-24.3.25 fonttools-4.51.0 fsspec-2024.3.1 jax-0.4.13 jaxlib-0.4.13 kiwisolver-1.4.5 matplotlib-3.7.5 mediapipe-0.10.11 ml-dtypes-0.2.0 mpmath-1.3.0 networkx-3.1 numpy-1.24.4 nvidia-cublas-cu12-12.1.3.1 nvidia-cuda-cupti-cu12-12.1.105 nvidia-cuda-nvrtc-cu12-12.1.105 nvidia-cuda-runtime-cu12-12.1.105 nvidia-cudnn-cu12-8.9.2.26 nvidia-cufft-cu12-11.0.2.54 nvidia-curand-cu12-10.3.2.106 nvidia-cusolver-cu12-11.4.5.107 nvidia-cusparse-cu12-12.1.0.106 nvidia-nccl-cu12-2.20.5 nvidia-nvjitlink-cu12-12.4.127 nvidia-nvtx-cu12-12.1.105 opencv-contrib-python-4.9.0.80 opt-einsum-3.3.0 pillow-10.3.0 protobuf-3.20.3 pyparsing-3.1.2 scipy-1.10.1 sounddevice-0.4.6 sympy-1.12 torch-2.3.0 triton-2.3.0\r\n",
      "\r\n",
      "\u001B[1m[\u001B[0m\u001B[34;49mnotice\u001B[0m\u001B[1;39;49m]\u001B[0m\u001B[39;49m A new release of pip is available: \u001B[0m\u001B[31;49m23.2.1\u001B[0m\u001B[39;49m -> \u001B[0m\u001B[32;49m24.0\u001B[0m\r\n",
      "\u001B[1m[\u001B[0m\u001B[34;49mnotice\u001B[0m\u001B[1;39;49m]\u001B[0m\u001B[39;49m To update, run: \u001B[0m\u001B[32;49mpip install --upgrade pip\u001B[0m\r\n"
     ]
    }
   ],
   "execution_count": 1
  },
  {
   "cell_type": "code",
   "source": [
    "import cv2\n",
    "import numpy as np\n",
    "import mediapipe as mp\n",
    "import subprocess\n",
    "import time\n",
    "import pandas as pd\n",
    "import os"
   ],
   "metadata": {
    "id": "-tcnkvm-kBaT",
    "ExecuteTime": {
     "end_time": "2024-05-06T10:45:32.606339Z",
     "start_time": "2024-05-06T10:45:32.598639Z"
    }
   },
   "outputs": [],
   "execution_count": 3
  },
  {
   "cell_type": "code",
   "source": [
    "mp_drawing = mp.solutions.drawing_utils\n",
    "mp_drawing_styles = mp.solutions.drawing_styles\n",
    "mp_holistic = mp.solutions.holistic"
   ],
   "metadata": {
    "id": "6OTRHQn2kKus",
    "ExecuteTime": {
     "end_time": "2024-05-06T10:45:34.722496Z",
     "start_time": "2024-05-06T10:45:34.718734Z"
    }
   },
   "outputs": [],
   "execution_count": 4
  },
  {
   "cell_type": "code",
   "source": [
    "selected_columns = [\"x_face_0\", \"x_face_61\", \"x_face_185\", \"x_face_40\", \"x_face_39\", \"x_face_37\", \"x_face_267\", \"x_face_269\", \"x_face_270\", \"x_face_409\", \"x_face_291\", \"x_face_146\", \"x_face_91\", \"x_face_181\", \"x_face_84\", \"x_face_17\", \"x_face_314\", \"x_face_405\", \"x_face_321\", \"x_face_375\", \"x_face_78\", \"x_face_191\", \"x_face_80\", \"x_face_81\", \"x_face_82\", \"x_face_13\", \"x_face_312\", \"x_face_311\", \"x_face_310\", \"x_face_415\", \"x_face_95\", \"x_face_88\", \"x_face_178\", \"x_face_87\", \"x_face_14\", \"x_face_317\", \"x_face_402\", \"x_face_318\", \"x_face_324\", \"x_face_308\", \"x_left_hand_0\", \"x_left_hand_1\", \"x_left_hand_2\", \"x_left_hand_3\", \"x_left_hand_4\", \"x_left_hand_5\", \"x_left_hand_6\", \"x_left_hand_7\", \"x_left_hand_8\", \"x_left_hand_9\", \"x_left_hand_10\", \"x_left_hand_11\", \"x_left_hand_12\", \"x_left_hand_13\", \"x_left_hand_14\", \"x_left_hand_15\", \"x_left_hand_16\", \"x_left_hand_17\", \"x_left_hand_18\", \"x_left_hand_19\", \"x_left_hand_20\", \"x_right_hand_0\", \"x_right_hand_1\", \"x_right_hand_2\", \"x_right_hand_3\", \"x_right_hand_4\", \"x_right_hand_5\", \"x_right_hand_6\", \"x_right_hand_7\", \"x_right_hand_8\", \"x_right_hand_9\", \"x_right_hand_10\", \"x_right_hand_11\", \"x_right_hand_12\", \"x_right_hand_13\", \"x_right_hand_14\", \"x_right_hand_15\", \"x_right_hand_16\", \"x_right_hand_17\", \"x_right_hand_18\", \"x_right_hand_19\", \"x_right_hand_20\", \"x_face_1\", \"x_face_2\", \"x_face_98\", \"x_face_327\", \"x_face_33\", \"x_face_7\", \"x_face_163\", \"x_face_144\", \"x_face_145\", \"x_face_153\", \"x_face_154\", \"x_face_155\", \"x_face_133\", \"x_face_246\", \"x_face_161\", \"x_face_160\", \"x_face_159\", \"x_face_158\", \"x_face_157\", \"x_face_173\", \"x_face_263\", \"x_face_249\", \"x_face_390\", \"x_face_373\", \"x_face_374\", \"x_face_380\", \"x_face_381\", \"x_face_382\", \"x_face_362\", \"x_face_466\", \"x_face_388\", \"x_face_387\", \"x_face_386\", \"x_face_385\", \"x_face_384\", \"x_face_398\", \"x_pose_12\", \"x_pose_14\", \"x_pose_16\", \"x_pose_18\", \"x_pose_20\", \"x_pose_22\", \"x_pose_11\", \"x_pose_13\", \"x_pose_15\", \"x_pose_17\", \"x_pose_19\", \"x_pose_21\", \"y_face_0\", \"y_face_61\", \"y_face_185\", \"y_face_40\", \"y_face_39\", \"y_face_37\", \"y_face_267\", \"y_face_269\", \"y_face_270\", \"y_face_409\", \"y_face_291\", \"y_face_146\", \"y_face_91\", \"y_face_181\", \"y_face_84\", \"y_face_17\", \"y_face_314\", \"y_face_405\", \"y_face_321\", \"y_face_375\", \"y_face_78\", \"y_face_191\", \"y_face_80\", \"y_face_81\", \"y_face_82\", \"y_face_13\", \"y_face_312\", \"y_face_311\", \"y_face_310\", \"y_face_415\", \"y_face_95\", \"y_face_88\", \"y_face_178\", \"y_face_87\", \"y_face_14\", \"y_face_317\", \"y_face_402\", \"y_face_318\", \"y_face_324\", \"y_face_308\", \"y_left_hand_0\", \"y_left_hand_1\", \"y_left_hand_2\", \"y_left_hand_3\", \"y_left_hand_4\", \"y_left_hand_5\", \"y_left_hand_6\", \"y_left_hand_7\", \"y_left_hand_8\", \"y_left_hand_9\", \"y_left_hand_10\", \"y_left_hand_11\", \"y_left_hand_12\", \"y_left_hand_13\", \"y_left_hand_14\", \"y_left_hand_15\", \"y_left_hand_16\", \"y_left_hand_17\", \"y_left_hand_18\", \"y_left_hand_19\", \"y_left_hand_20\", \"y_right_hand_0\", \"y_right_hand_1\", \"y_right_hand_2\", \"y_right_hand_3\", \"y_right_hand_4\", \"y_right_hand_5\", \"y_right_hand_6\", \"y_right_hand_7\", \"y_right_hand_8\", \"y_right_hand_9\", \"y_right_hand_10\", \"y_right_hand_11\", \"y_right_hand_12\", \"y_right_hand_13\", \"y_right_hand_14\", \"y_right_hand_15\", \"y_right_hand_16\", \"y_right_hand_17\", \"y_right_hand_18\", \"y_right_hand_19\", \"y_right_hand_20\", \"y_face_1\", \"y_face_2\", \"y_face_98\", \"y_face_327\", \"y_face_33\", \"y_face_7\", \"y_face_163\", \"y_face_144\", \"y_face_145\", \"y_face_153\", \"y_face_154\", \"y_face_155\", \"y_face_133\", \"y_face_246\", \"y_face_161\", \"y_face_160\", \"y_face_159\", \"y_face_158\", \"y_face_157\", \"y_face_173\", \"y_face_263\", \"y_face_249\", \"y_face_390\", \"y_face_373\", \"y_face_374\", \"y_face_380\", \"y_face_381\", \"y_face_382\", \"y_face_362\", \"y_face_466\", \"y_face_388\", \"y_face_387\", \"y_face_386\", \"y_face_385\", \"y_face_384\", \"y_face_398\", \"y_pose_12\", \"y_pose_14\", \"y_pose_16\", \"y_pose_18\", \"y_pose_20\", \"y_pose_22\", \"y_pose_11\", \"y_pose_13\", \"y_pose_15\", \"y_pose_17\", \"y_pose_19\", \"y_pose_21\", \"z_face_0\", \"z_face_61\", \"z_face_185\", \"z_face_40\", \"z_face_39\", \"z_face_37\", \"z_face_267\", \"z_face_269\", \"z_face_270\", \"z_face_409\", \"z_face_291\", \"z_face_146\", \"z_face_91\", \"z_face_181\", \"z_face_84\", \"z_face_17\", \"z_face_314\", \"z_face_405\", \"z_face_321\", \"z_face_375\", \"z_face_78\", \"z_face_191\", \"z_face_80\", \"z_face_81\", \"z_face_82\", \"z_face_13\", \"z_face_312\", \"z_face_311\", \"z_face_310\", \"z_face_415\", \"z_face_95\", \"z_face_88\", \"z_face_178\", \"z_face_87\", \"z_face_14\", \"z_face_317\", \"z_face_402\", \"z_face_318\", \"z_face_324\", \"z_face_308\", \"z_left_hand_0\", \"z_left_hand_1\", \"z_left_hand_2\", \"z_left_hand_3\", \"z_left_hand_4\", \"z_left_hand_5\", \"z_left_hand_6\", \"z_left_hand_7\", \"z_left_hand_8\", \"z_left_hand_9\", \"z_left_hand_10\", \"z_left_hand_11\", \"z_left_hand_12\", \"z_left_hand_13\", \"z_left_hand_14\", \"z_left_hand_15\", \"z_left_hand_16\", \"z_left_hand_17\", \"z_left_hand_18\", \"z_left_hand_19\", \"z_left_hand_20\", \"z_right_hand_0\", \"z_right_hand_1\", \"z_right_hand_2\", \"z_right_hand_3\", \"z_right_hand_4\", \"z_right_hand_5\", \"z_right_hand_6\", \"z_right_hand_7\", \"z_right_hand_8\", \"z_right_hand_9\", \"z_right_hand_10\", \"z_right_hand_11\", \"z_right_hand_12\", \"z_right_hand_13\", \"z_right_hand_14\", \"z_right_hand_15\", \"z_right_hand_16\", \"z_right_hand_17\", \"z_right_hand_18\", \"z_right_hand_19\", \"z_right_hand_20\", \"z_face_1\", \"z_face_2\", \"z_face_98\", \"z_face_327\", \"z_face_33\", \"z_face_7\", \"z_face_163\", \"z_face_144\", \"z_face_145\", \"z_face_153\", \"z_face_154\", \"z_face_155\", \"z_face_133\", \"z_face_246\", \"z_face_161\", \"z_face_160\", \"z_face_159\", \"z_face_158\", \"z_face_157\", \"z_face_173\", \"z_face_263\", \"z_face_249\", \"z_face_390\", \"z_face_373\", \"z_face_374\", \"z_face_380\", \"z_face_381\", \"z_face_382\", \"z_face_362\", \"z_face_466\", \"z_face_388\", \"z_face_387\", \"z_face_386\", \"z_face_385\", \"z_face_384\", \"z_face_398\", \"z_pose_12\", \"z_pose_14\", \"z_pose_16\", \"z_pose_18\", \"z_pose_20\", \"z_pose_22\", \"z_pose_11\", \"z_pose_13\", \"z_pose_15\", \"z_pose_17\", \"z_pose_19\", \"z_pose_21\"]"
   ],
   "metadata": {
    "id": "9ag867WC_PFJ",
    "ExecuteTime": {
     "end_time": "2024-05-06T10:45:36.850201Z",
     "start_time": "2024-05-06T10:45:36.817827Z"
    }
   },
   "outputs": [],
   "execution_count": 5
  },
  {
   "cell_type": "code",
   "source": [
    "prefix = \"/content/gdrive/MyDrive/ASL_fingerspelling_project/data/This_is_a_video_with_many_words/\""
   ],
   "metadata": {
    "id": "Jg6YpJhN5_n1"
   },
   "execution_count": null,
   "outputs": []
  },
  {
   "cell_type": "markdown",
   "source": [
    "Compress video before runnign MediaPipe:\n",
    "reduce amount of frames and pixels"
   ],
   "metadata": {
    "id": "tnnI6Mt1oBoy"
   }
  },
  {
   "cell_type": "code",
   "source": [
    "prefix = \"/content/gdrive/MyDrive/ASL_fingerspelling_project/data/This_is_a_video_with_many_words/\"\n",
    "start_time = time.time()\n",
    "video_path = prefix + 'video.mp4'\n",
    "cap = cv2.VideoCapture(video_path)\n",
    "\n",
    "total_frames = int(cap.get(cv2.CAP_PROP_FRAME_COUNT))\n",
    "frame_width = int(cap.get(cv2.CAP_PROP_FRAME_WIDTH))\n",
    "frame_height = int(cap.get(cv2.CAP_PROP_FRAME_HEIGHT))\n",
    "\n",
    "COMPRESS_NUM_FRAMES = 2    # take one frame from each COMPRESS_NUM_FRAMES\n",
    "COMPRESS_PIXELS = 1      # divide amount of pixels by COMPRESS_PIXELS\n",
    "FRAMES_PER_SHORT_VIDEO = 150\n",
    "FRAMES_OVERLAP = 50\n",
    "if total_frames // COMPRESS_NUM_FRAMES < 15:   # min num of frames for detection is 15\n",
    "  COMPRESS_NUM_FRAMES = total_frames // 20\n",
    "\n",
    "\n",
    "if frame_height > frame_width:\n",
    "  out_frame_height = 160\n",
    "  out_frame_width = 90\n",
    "\n",
    "else:\n",
    "  out_frame_height = 90\n",
    "  out_frame_width = 160\n",
    "\n",
    "out_frame_height = frame_height//1\n",
    "\n",
    "out_frame_width = frame_width//1\n",
    "\n",
    "\n",
    "# Define the codec and create VideoWriter object\n",
    "fourcc = cv2.VideoWriter_fourcc(*'mp4v')\n",
    "        ######## some old code ############\n",
    "        # output_path = prefix + 'video_downsampled.mp4'\n",
    "fps = cap.get(cv2.CAP_PROP_FPS)\n",
    "\n",
    "        # out = cv2.VideoWriter(output_path, fourcc, fps, (out_frame_width , out_frame_height ))\n",
    "\n",
    "        # Create output directory if it doesn't exist\n",
    "output_dir = prefix + 'short_videos/'\n",
    "os.makedirs(output_dir, exist_ok=True)\n",
    "\n",
    "frame_counter = 0\n",
    "short_video_counter = 1\n",
    "out0 = None\n",
    "out1 = None\n",
    "out = [out0, out1]\n",
    "frame_counter = 0\n",
    "short_videos = []\n",
    "main_out = 0\n",
    "\n",
    "while cap.isOpened():\n",
    "    ret, frame = cap.read()\n",
    "    if not ret:\n",
    "        break\n",
    "\n",
    "    frame_counter += 1\n",
    "\n",
    "    if frame_counter == 1:\n",
    "        short_video_path = os.path.join(output_dir, f'video_downsampled_1.mp4')\n",
    "        out[main_out] = cv2.VideoWriter(short_video_path, fourcc, fps, (out_frame_width, out_frame_height))\n",
    "        short_videos.append(short_video_path)\n",
    "\n",
    "        #### I removed this part ######\n",
    "    # Process every COMPRESS_NUM_FRAMES frame\n",
    "    if frame_counter % COMPRESS_NUM_FRAMES == 0:\n",
    "      # Resize the frame to reduce the number of pixels\n",
    "      ##################################\n",
    "\n",
    "      resized_frame = cv2.resize(frame, (out_frame_width  , out_frame_height))\n",
    "\n",
    "      # Write the resized frame to the output video\n",
    "\n",
    "      out[main_out].write(resized_frame)\n",
    "      if out[1 - main_out]:\n",
    "        out[1 - main_out].write(resized_frame)\n",
    "\n",
    "      # Quit by pressing on 'q' key\n",
    "      if cv2.waitKey(1) & 0xFF == ord('q'):\n",
    "          break\n",
    "\n",
    "    # out0 and out1 should be overlapping in 50 frames\n",
    "    if frame_counter == FRAMES_OVERLAP:\n",
    "      short_video_path = os.path.join(output_dir, f'video_downsampled_{short_video_counter+1}.mp4')\n",
    "      out[1- main_out] = cv2.VideoWriter(short_video_path, fourcc, fps, (out_frame_width, out_frame_height))\n",
    "      short_videos.append(short_video_path)\n",
    "\n",
    "    # If the frame counter reaches the desired number of frames per short video, release the current short video writer\n",
    "    if frame_counter == FRAMES_PER_SHORT_VIDEO:\n",
    "        out[main_out].release()\n",
    "        short_video_counter += 1\n",
    "        frame_counter = FRAMES_OVERLAP-1\n",
    "        main_out = 1 - main_out\n",
    "\n",
    "# Release everything when done\n",
    "cap.release()\n",
    "if out[main_out]:\n",
    "  out[main_out].release()\n",
    "if out[1-main_out]:\n",
    "  out[1-main_out].release()\n",
    "cv2.destroyAllWindows()\n",
    "end_time = time.time()\n",
    "total_time = end_time - start_time\n",
    "print(f\"Total time taken: {total_time} seconds\", COMPRESS_NUM_FRAMES, total_frames, frame_width, frame_height)"
   ],
   "metadata": {
    "colab": {
     "base_uri": "https://localhost:8080/"
    },
    "id": "I4waAE0WwIcj",
    "outputId": "f3d653d7-d5f9-4af7-d449-7f6ffd90a13d"
   },
   "execution_count": null,
   "outputs": [
    {
     "output_type": "stream",
     "name": "stdout",
     "text": [
      "Total time taken: 34.889177083969116 seconds 2 729 1080 1920\n"
     ]
    }
   ]
  },
  {
   "cell_type": "code",
   "source": [
    "###### HELPER - no real code ##########\n",
    "video_path = prefix + 'video.mp4'\n",
    "cap = cv2.VideoCapture(video_path)\n",
    "\n",
    "total_frames = int(cap.get(cv2.CAP_PROP_FRAME_COUNT))\n",
    "print(total_frames, out_frame_width, out_frame_height)\n",
    "short_videos"
   ],
   "metadata": {
    "id": "EN_MadUJMssV",
    "outputId": "8f07bd94-c083-4451-a5c2-a05de23c9c4b",
    "colab": {
     "base_uri": "https://localhost:8080/"
    }
   },
   "execution_count": null,
   "outputs": [
    {
     "output_type": "stream",
     "name": "stdout",
     "text": [
      "729 1080 1920\n"
     ]
    },
    {
     "output_type": "execute_result",
     "data": {
      "text/plain": [
       "['/content/gdrive/MyDrive/ASL_fingerspelling_project/data/This_is_a_video_with_many_words/short_videos/video_downsampled_1.mp4',\n",
       " '/content/gdrive/MyDrive/ASL_fingerspelling_project/data/This_is_a_video_with_many_words/short_videos/video_downsampled_2.mp4',\n",
       " '/content/gdrive/MyDrive/ASL_fingerspelling_project/data/This_is_a_video_with_many_words/short_videos/video_downsampled_3.mp4',\n",
       " '/content/gdrive/MyDrive/ASL_fingerspelling_project/data/This_is_a_video_with_many_words/short_videos/video_downsampled_4.mp4',\n",
       " '/content/gdrive/MyDrive/ASL_fingerspelling_project/data/This_is_a_video_with_many_words/short_videos/video_downsampled_5.mp4',\n",
       " '/content/gdrive/MyDrive/ASL_fingerspelling_project/data/This_is_a_video_with_many_words/short_videos/video_downsampled_6.mp4',\n",
       " '/content/gdrive/MyDrive/ASL_fingerspelling_project/data/This_is_a_video_with_many_words/short_videos/video_downsampled_7.mp4',\n",
       " '/content/gdrive/MyDrive/ASL_fingerspelling_project/data/This_is_a_video_with_many_words/short_videos/video_downsampled_8.mp4']"
      ]
     },
     "metadata": {},
     "execution_count": 78
    }
   ]
  },
  {
   "cell_type": "markdown",
   "source": [
    "Do mediaPipe on small videos"
   ],
   "metadata": {
    "id": "9hz5ySJyP7TS"
   }
  },
  {
   "cell_type": "code",
   "source": [
    "########### MediaPipe short videos ################\n",
    "\n",
    "mp_holistic = mp.solutions.holistic\n",
    "i = 1\n",
    "for video_path in short_videos:\n",
    "  start_time = time.time()\n",
    "  total_saving_time = 0\n",
    "  total_net_time = 0\n",
    "\n",
    "\n",
    "  # Replace with your video file path\n",
    "  video_path = prefix +\"short_videos/\" f\"video_downsampled_{i}.mp4\"\n",
    "\n",
    "  # Create an empty list to store landmark data\n",
    "  data_list = []\n",
    "\n",
    "  with mp_holistic.Holistic(\n",
    "      model_complexity=0) as holistic:\n",
    "\n",
    "      # Open the video capture\n",
    "      cap = cv2.VideoCapture(video_path)\n",
    "\n",
    "      # Process each video frame\n",
    "      while cap.isOpened():\n",
    "          success, image = cap.read()\n",
    "          if not success:\n",
    "              break\n",
    "\n",
    "          # Convert BGR to RGB for MediaPipe compatibility\n",
    "          # image = cv2.cvtColor(image, cv2.COLOR_BGR2RGB)\n",
    "\n",
    "          # Process the image with MediaPipe Holistic\n",
    "          total_net_time_start = time.time()\n",
    "          results = holistic.process(image)\n",
    "          total_net_time_end = time.time()\n",
    "          print(f\"time taken to net: {total_net_time_end-total_net_time_start} seconds\")\n",
    "\n",
    "          total_net_time = total_net_time + (total_net_time_end-total_net_time_start)\n",
    "\n",
    "          only_net_start_save_time = time.time()\n",
    "\n",
    "          # Extract the selected landmarks and their coordinates\n",
    "          landmark_data = []\n",
    "          for column in selected_columns:\n",
    "              splitted = column.split('_')\n",
    "              if len(splitted) == 3:\n",
    "                coordinate, category, landmark = splitted\n",
    "              else:\n",
    "                coordinate = splitted[0][0]\n",
    "                category = splitted[1]  + \"_\"+ splitted[2]\n",
    "                landmark = splitted[3]\n",
    "\n",
    "              if category == 'pose' and results.pose_landmarks :\n",
    "                  tmp = getattr(results.pose_landmarks.landmark[int(landmark)],coordinate, None)\n",
    "              elif category == 'face' and results.face_landmarks:\n",
    "                  tmp = getattr(results.face_landmarks.landmark[int(landmark)], coordinate, None)\n",
    "              elif category == 'left_hand' and results.left_hand_landmarks:\n",
    "                  tmp= getattr(results.left_hand_landmarks.landmark[int(landmark)], coordinate, None)\n",
    "              elif category == 'right_hand' and results.right_hand_landmarks:\n",
    "                  tmp = getattr(results.right_hand_landmarks.landmark[int(landmark)], coordinate, None)\n",
    "\n",
    "              landmark_data.append( np.float32(tmp))\n",
    "\n",
    "          # Append landmark data for this frame to the list\n",
    "          data_list.append(landmark_data)\n",
    "\n",
    "          only_net_end_save_time = time.time()\n",
    "          total_saving_time = total_saving_time + (only_net_end_save_time - only_net_start_save_time)\n",
    "\n",
    "      # Release resources\n",
    "      cap.release()\n",
    "      cv2.destroyAllWindows()\n",
    "  # Create a DataFrame from the data list\n",
    "  df = pd.DataFrame(data_list, columns=selected_columns)\n",
    "\n",
    "  # Save the DataFrame as a Parquet file\n",
    "  df.to_parquet(prefix+f\"output_{i}.parquet\", index=False)\n",
    "\n",
    "  print(f\"Landmark data saved to output_{i}.parquet\")\n",
    "  end_time = time.time()\n",
    "  total_time = end_time - start_time\n",
    "  print(f\"Total time taken: {total_time} seconds\")\n",
    "\n",
    "  print(f\"time taken without saving: {total_time - total_saving_time} seconds\")\n",
    "\n",
    "  print(f\"time taken to net: {total_net_time} seconds\")\n",
    "  total_net_time = 0\n",
    "  i+=1"
   ],
   "metadata": {
    "id": "KxhwkIka7plT",
    "colab": {
     "base_uri": "https://localhost:8080/",
     "height": 1000
    },
    "outputId": "28940534-30b7-43ca-8e62-62e49e44eb78"
   },
   "execution_count": null,
   "outputs": [
    {
     "output_type": "stream",
     "name": "stdout",
     "text": [
      "time taken to net: 0.25911664962768555 seconds\n",
      "time taken to net: 0.10303020477294922 seconds\n",
      "time taken to net: 0.10482072830200195 seconds\n",
      "time taken to net: 0.10293817520141602 seconds\n",
      "time taken to net: 0.10558938980102539 seconds\n",
      "time taken to net: 0.10262012481689453 seconds\n",
      "time taken to net: 0.09709048271179199 seconds\n",
      "time taken to net: 0.09395074844360352 seconds\n",
      "time taken to net: 0.10801076889038086 seconds\n",
      "time taken to net: 0.11084794998168945 seconds\n",
      "time taken to net: 0.10385394096374512 seconds\n",
      "time taken to net: 0.1066129207611084 seconds\n",
      "time taken to net: 0.13778257369995117 seconds\n",
      "time taken to net: 0.16210293769836426 seconds\n",
      "time taken to net: 0.15053415298461914 seconds\n",
      "time taken to net: 0.17131996154785156 seconds\n",
      "time taken to net: 0.1724386215209961 seconds\n",
      "time taken to net: 0.13556814193725586 seconds\n",
      "time taken to net: 0.1568915843963623 seconds\n",
      "time taken to net: 0.1564655303955078 seconds\n",
      "time taken to net: 0.1423780918121338 seconds\n",
      "time taken to net: 0.1491990089416504 seconds\n",
      "time taken to net: 0.14655447006225586 seconds\n",
      "time taken to net: 0.15064287185668945 seconds\n",
      "time taken to net: 0.15800094604492188 seconds\n",
      "time taken to net: 0.1630845069885254 seconds\n",
      "time taken to net: 0.1658332347869873 seconds\n",
      "time taken to net: 0.14255094528198242 seconds\n",
      "time taken to net: 0.16376900672912598 seconds\n",
      "time taken to net: 0.15568184852600098 seconds\n",
      "time taken to net: 0.15102910995483398 seconds\n",
      "time taken to net: 0.14968466758728027 seconds\n",
      "time taken to net: 0.1714465618133545 seconds\n",
      "time taken to net: 0.14555144309997559 seconds\n",
      "time taken to net: 0.14801549911499023 seconds\n",
      "time taken to net: 0.14274001121520996 seconds\n",
      "time taken to net: 0.1664109230041504 seconds\n",
      "time taken to net: 0.1314256191253662 seconds\n",
      "time taken to net: 0.09750580787658691 seconds\n",
      "time taken to net: 0.09363460540771484 seconds\n",
      "time taken to net: 0.5741896629333496 seconds\n",
      "time taken to net: 0.12128376960754395 seconds\n",
      "time taken to net: 0.10509371757507324 seconds\n",
      "time taken to net: 0.09705662727355957 seconds\n",
      "time taken to net: 0.09337568283081055 seconds\n",
      "time taken to net: 0.09532761573791504 seconds\n",
      "time taken to net: 0.1067354679107666 seconds\n",
      "time taken to net: 0.10010290145874023 seconds\n",
      "time taken to net: 0.0955209732055664 seconds\n",
      "time taken to net: 0.0982675552368164 seconds\n",
      "time taken to net: 0.09518980979919434 seconds\n",
      "time taken to net: 0.11820220947265625 seconds\n",
      "time taken to net: 0.1001131534576416 seconds\n",
      "time taken to net: 0.0946035385131836 seconds\n",
      "time taken to net: 0.09418129920959473 seconds\n",
      "time taken to net: 0.10311698913574219 seconds\n",
      "time taken to net: 0.09895825386047363 seconds\n",
      "time taken to net: 0.09742879867553711 seconds\n",
      "time taken to net: 0.09372925758361816 seconds\n",
      "time taken to net: 0.09841322898864746 seconds\n",
      "time taken to net: 0.09232592582702637 seconds\n",
      "time taken to net: 0.11582088470458984 seconds\n",
      "time taken to net: 0.09444952011108398 seconds\n",
      "time taken to net: 0.09287691116333008 seconds\n",
      "time taken to net: 0.09048581123352051 seconds\n",
      "time taken to net: 0.09270620346069336 seconds\n",
      "time taken to net: 0.11474370956420898 seconds\n",
      "time taken to net: 0.09101295471191406 seconds\n",
      "time taken to net: 0.09090161323547363 seconds\n",
      "time taken to net: 0.09313726425170898 seconds\n",
      "time taken to net: 0.0968773365020752 seconds\n",
      "time taken to net: 0.11230206489562988 seconds\n",
      "time taken to net: 0.10190105438232422 seconds\n",
      "time taken to net: 0.11237716674804688 seconds\n",
      "time taken to net: 0.09673619270324707 seconds\n",
      "Landmark data saved to output_1.parquet\n",
      "Total time taken: 10.475743293762207 seconds\n",
      "time taken without saving: 10.384432315826416 seconds\n",
      "time taken to net: 9.54626989364624 seconds\n",
      "time taken to net: 0.2768537998199463 seconds\n",
      "time taken to net: 0.0990746021270752 seconds\n",
      "time taken to net: 0.09596991539001465 seconds\n",
      "time taken to net: 0.10106635093688965 seconds\n",
      "time taken to net: 0.09604334831237793 seconds\n",
      "time taken to net: 0.09441518783569336 seconds\n",
      "time taken to net: 0.09052395820617676 seconds\n",
      "time taken to net: 0.09664630889892578 seconds\n",
      "time taken to net: 0.09208798408508301 seconds\n",
      "time taken to net: 0.09416460990905762 seconds\n",
      "time taken to net: 0.10772585868835449 seconds\n",
      "time taken to net: 0.09781503677368164 seconds\n",
      "time taken to net: 0.09146761894226074 seconds\n",
      "time taken to net: 0.1006937026977539 seconds\n",
      "time taken to net: 0.09842729568481445 seconds\n",
      "time taken to net: 0.09575843811035156 seconds\n",
      "time taken to net: 0.09168267250061035 seconds\n",
      "time taken to net: 0.09844303131103516 seconds\n",
      "time taken to net: 0.09632277488708496 seconds\n",
      "time taken to net: 0.09499859809875488 seconds\n",
      "time taken to net: 0.10309958457946777 seconds\n",
      "time taken to net: 0.09450912475585938 seconds\n",
      "time taken to net: 0.09183669090270996 seconds\n",
      "time taken to net: 0.09796643257141113 seconds\n",
      "time taken to net: 0.09177732467651367 seconds\n",
      "time taken to net: 0.09490799903869629 seconds\n",
      "time taken to net: 0.09317588806152344 seconds\n",
      "time taken to net: 0.0969855785369873 seconds\n",
      "time taken to net: 0.09307169914245605 seconds\n",
      "time taken to net: 0.09402298927307129 seconds\n",
      "time taken to net: 0.11280035972595215 seconds\n",
      "time taken to net: 0.09022903442382812 seconds\n",
      "time taken to net: 0.09541130065917969 seconds\n"
     ]
    },
    {
     "output_type": "error",
     "ename": "KeyboardInterrupt",
     "evalue": "",
     "traceback": [
      "\u001B[0;31m---------------------------------------------------------------------------\u001B[0m",
      "\u001B[0;31mKeyboardInterrupt\u001B[0m                         Traceback (most recent call last)",
      "\u001B[0;32m<ipython-input-79-97b4b4054b1e>\u001B[0m in \u001B[0;36m<cell line: 5>\u001B[0;34m()\u001B[0m\n\u001B[1;32m     32\u001B[0m           \u001B[0;31m# Process the image with MediaPipe Holistic\u001B[0m\u001B[0;34m\u001B[0m\u001B[0;34m\u001B[0m\u001B[0m\n\u001B[1;32m     33\u001B[0m           \u001B[0mtotal_net_time_start\u001B[0m \u001B[0;34m=\u001B[0m \u001B[0mtime\u001B[0m\u001B[0;34m.\u001B[0m\u001B[0mtime\u001B[0m\u001B[0;34m(\u001B[0m\u001B[0;34m)\u001B[0m\u001B[0;34m\u001B[0m\u001B[0;34m\u001B[0m\u001B[0m\n\u001B[0;32m---> 34\u001B[0;31m           \u001B[0mresults\u001B[0m \u001B[0;34m=\u001B[0m \u001B[0mholistic\u001B[0m\u001B[0;34m.\u001B[0m\u001B[0mprocess\u001B[0m\u001B[0;34m(\u001B[0m\u001B[0mimage\u001B[0m\u001B[0;34m)\u001B[0m\u001B[0;34m\u001B[0m\u001B[0;34m\u001B[0m\u001B[0m\n\u001B[0m\u001B[1;32m     35\u001B[0m           \u001B[0mtotal_net_time_end\u001B[0m \u001B[0;34m=\u001B[0m \u001B[0mtime\u001B[0m\u001B[0;34m.\u001B[0m\u001B[0mtime\u001B[0m\u001B[0;34m(\u001B[0m\u001B[0;34m)\u001B[0m\u001B[0;34m\u001B[0m\u001B[0;34m\u001B[0m\u001B[0m\n\u001B[1;32m     36\u001B[0m           \u001B[0mprint\u001B[0m\u001B[0;34m(\u001B[0m\u001B[0;34mf\"time taken to net: {total_net_time_end-total_net_time_start} seconds\"\u001B[0m\u001B[0;34m)\u001B[0m\u001B[0;34m\u001B[0m\u001B[0;34m\u001B[0m\u001B[0m\n",
      "\u001B[0;32m/usr/local/lib/python3.10/dist-packages/mediapipe/python/solutions/holistic.py\u001B[0m in \u001B[0;36mprocess\u001B[0;34m(self, image)\u001B[0m\n\u001B[1;32m    158\u001B[0m     \"\"\"\n\u001B[1;32m    159\u001B[0m \u001B[0;34m\u001B[0m\u001B[0m\n\u001B[0;32m--> 160\u001B[0;31m     \u001B[0mresults\u001B[0m \u001B[0;34m=\u001B[0m \u001B[0msuper\u001B[0m\u001B[0;34m(\u001B[0m\u001B[0;34m)\u001B[0m\u001B[0;34m.\u001B[0m\u001B[0mprocess\u001B[0m\u001B[0;34m(\u001B[0m\u001B[0minput_data\u001B[0m\u001B[0;34m=\u001B[0m\u001B[0;34m{\u001B[0m\u001B[0;34m'image'\u001B[0m\u001B[0;34m:\u001B[0m \u001B[0mimage\u001B[0m\u001B[0;34m}\u001B[0m\u001B[0;34m)\u001B[0m\u001B[0;34m\u001B[0m\u001B[0;34m\u001B[0m\u001B[0m\n\u001B[0m\u001B[1;32m    161\u001B[0m     \u001B[0;32mif\u001B[0m \u001B[0mresults\u001B[0m\u001B[0;34m.\u001B[0m\u001B[0mpose_landmarks\u001B[0m\u001B[0;34m:\u001B[0m  \u001B[0;31m# pytype: disable=attribute-error\u001B[0m\u001B[0;34m\u001B[0m\u001B[0;34m\u001B[0m\u001B[0m\n\u001B[1;32m    162\u001B[0m       \u001B[0;32mfor\u001B[0m \u001B[0mlandmark\u001B[0m \u001B[0;32min\u001B[0m \u001B[0mresults\u001B[0m\u001B[0;34m.\u001B[0m\u001B[0mpose_landmarks\u001B[0m\u001B[0;34m.\u001B[0m\u001B[0mlandmark\u001B[0m\u001B[0;34m:\u001B[0m  \u001B[0;31m# pytype: disable=attribute-error\u001B[0m\u001B[0;34m\u001B[0m\u001B[0;34m\u001B[0m\u001B[0m\n",
      "\u001B[0;32m/usr/local/lib/python3.10/dist-packages/mediapipe/python/solution_base.py\u001B[0m in \u001B[0;36mprocess\u001B[0;34m(self, input_data)\u001B[0m\n\u001B[1;32m    362\u001B[0m         self._graph.add_packet_to_input_stream(\n\u001B[1;32m    363\u001B[0m             \u001B[0mstream\u001B[0m\u001B[0;34m=\u001B[0m\u001B[0mstream_name\u001B[0m\u001B[0;34m,\u001B[0m\u001B[0;34m\u001B[0m\u001B[0;34m\u001B[0m\u001B[0m\n\u001B[0;32m--> 364\u001B[0;31m             packet=self._make_packet(input_stream_type,\n\u001B[0m\u001B[1;32m    365\u001B[0m                                      data).at(self._simulated_timestamp))\n\u001B[1;32m    366\u001B[0m       \u001B[0;32melse\u001B[0m\u001B[0;34m:\u001B[0m\u001B[0;34m\u001B[0m\u001B[0;34m\u001B[0m\u001B[0m\n",
      "\u001B[0;32m/usr/local/lib/python3.10/dist-packages/mediapipe/python/solution_base.py\u001B[0m in \u001B[0;36m_make_packet\u001B[0;34m(self, packet_data_type, data)\u001B[0m\n\u001B[1;32m    594\u001B[0m     if (packet_data_type == PacketDataType.IMAGE_FRAME or\n\u001B[1;32m    595\u001B[0m         packet_data_type == PacketDataType.IMAGE):\n\u001B[0;32m--> 596\u001B[0;31m       return getattr(packet_creator, 'create_' + packet_data_type.value)(\n\u001B[0m\u001B[1;32m    597\u001B[0m           data, image_format=image_frame.ImageFormat.SRGB)\n\u001B[1;32m    598\u001B[0m     \u001B[0;32melse\u001B[0m\u001B[0;34m:\u001B[0m\u001B[0;34m\u001B[0m\u001B[0;34m\u001B[0m\u001B[0m\n",
      "\u001B[0;32m/usr/local/lib/python3.10/dist-packages/mediapipe/python/packet_creator.py\u001B[0m in \u001B[0;36mcreate_image_frame\u001B[0;34m(data, image_format, copy)\u001B[0m\n\u001B[1;32m    145\u001B[0m             RuntimeWarning, 2)\n\u001B[1;32m    146\u001B[0m     \u001B[0;31m# pylint:disable=protected-access\u001B[0m\u001B[0;34m\u001B[0m\u001B[0;34m\u001B[0m\u001B[0m\n\u001B[0;32m--> 147\u001B[0;31m     return _packet_creator._create_image_frame_from_pixel_data(\n\u001B[0m\u001B[1;32m    148\u001B[0m         image_format, data, copy)\n\u001B[1;32m    149\u001B[0m     \u001B[0;31m# pylint:enable=protected-access\u001B[0m\u001B[0;34m\u001B[0m\u001B[0;34m\u001B[0m\u001B[0m\n",
      "\u001B[0;31mKeyboardInterrupt\u001B[0m: "
     ]
    }
   ]
  },
  {
   "cell_type": "code",
   "source": [
    "prefix = \"/content/gdrive/MyDrive/ASL_fingerspelling_project/data/This_is_a_video_with_many_words/\"\n",
    "##### Mediapipe regualr #######\n",
    "mp_holistic = mp.solutions.holistic\n",
    "start_time = time.time()\n",
    "\n",
    "\n",
    "  # Replace with your video file path\n",
    "video_path = prefix + \"video.mp4\"\n",
    "\n",
    "# Create an empty list to store landmark data\n",
    "data_list = []\n",
    "\n",
    "with mp_holistic.Holistic(\n",
    "    static_image_mode=True,\n",
    "    model_complexity=1,\n",
    "    enable_segmentation=False,\n",
    "    refine_face_landmarks=False) as holistic:\n",
    "\n",
    "    # Open the video capture\n",
    "    cap = cv2.VideoCapture(video_path)\n",
    "\n",
    "    # Process each video frame\n",
    "    while cap.isOpened():\n",
    "        success, image = cap.read()\n",
    "        if not success:\n",
    "            break\n",
    "\n",
    "        # Convert BGR to RGB for MediaPipe compatibility\n",
    "        image = cv2.cvtColor(image, cv2.COLOR_BGR2RGB)\n",
    "\n",
    "        # Process the image with MediaPipe Holistic\n",
    "        results = holistic.process(image)\n",
    "\n",
    "        # Extract the selected landmarks and their coordinates\n",
    "        landmark_data = []\n",
    "        for column in selected_columns:\n",
    "            splitted = column.split('_')\n",
    "            if len(splitted) == 3:\n",
    "              coordinate, category, landmark = splitted\n",
    "            else:\n",
    "              coordinate = splitted[0][0]\n",
    "              category = splitted[1]  + \"_\"+ splitted[2]\n",
    "              landmark = splitted[3]\n",
    "\n",
    "            if category == 'pose' and results.pose_landmarks :\n",
    "                tmp = getattr(results.pose_landmarks.landmark[int(landmark)],coordinate, None)\n",
    "            elif category == 'face' and results.face_landmarks:\n",
    "                tmp = getattr(results.face_landmarks.landmark[int(landmark)], coordinate, None)\n",
    "            elif category == 'left_hand' and results.left_hand_landmarks:\n",
    "                tmp= getattr(results.left_hand_landmarks.landmark[int(landmark)], coordinate, None)\n",
    "            elif category == 'right_hand' and results.right_hand_landmarks:\n",
    "                tmp = getattr(results.right_hand_landmarks.landmark[int(landmark)], coordinate, None)\n",
    "\n",
    "            landmark_data.append( np.float32(tmp))\n",
    "\n",
    "        # Append landmark data for this frame to the list\n",
    "        data_list.append(landmark_data)\n",
    "\n",
    "    # Release resources\n",
    "    cap.release()\n",
    "    cv2.destroyAllWindows()\n",
    "\n",
    "# Create a DataFrame from the data list\n",
    "df = pd.DataFrame(data_list, columns=selected_columns)\n",
    "\n",
    "# Save the DataFrame as a Parquet file\n",
    "df.to_parquet(prefix+f\"output.parquet\", index=False)\n",
    "\n",
    "print(f\"Landmark data saved to output.parquet\")\n",
    "end_time = time.time()\n",
    "total_time = end_time - start_time\n",
    "print(f\"Total time taken: {total_time} seconds\")\n"
   ],
   "metadata": {
    "id": "p-kKGaPPPK4q",
    "outputId": "ae995daa-17db-44ca-a6f5-b4bb1dd96105",
    "colab": {
     "base_uri": "https://localhost:8080/"
    }
   },
   "execution_count": null,
   "outputs": [
    {
     "output_type": "stream",
     "name": "stdout",
     "text": [
      "Landmark data saved to output.parquet\n",
      "Total time taken: 111.2529149055481 seconds\n"
     ]
    }
   ]
  },
  {
   "cell_type": "markdown",
   "source": [
    "read parquet"
   ],
   "metadata": {
    "id": "1e3Xc7kv62dd"
   }
  },
  {
   "cell_type": "code",
   "source": [
    "df = pd.read_parquet(prefix+'output.parquet')\n",
    "row_count = df.shape[0]\n",
    "print (\"Num of rows in file =\", row_count)"
   ],
   "metadata": {
    "id": "Dhd0Svuo62HO",
    "outputId": "d11d4fc2-3b16-46b8-d7ca-a6847a55a68a",
    "colab": {
     "base_uri": "https://localhost:8080/"
    }
   },
   "execution_count": null,
   "outputs": [
    {
     "output_type": "stream",
     "name": "stdout",
     "text": [
      "Num of rows in file = 712\n"
     ]
    }
   ]
  },
  {
   "cell_type": "markdown",
   "source": [
    "convert parquet to csv"
   ],
   "metadata": {
    "id": "apFXvW1Xz9yt"
   }
  },
  {
   "cell_type": "code",
   "source": [
    "\n",
    "df.to_csv(prefix+'output.csv')\n"
   ],
   "metadata": {
    "id": "71TS1uZCz9Hi",
    "colab": {
     "base_uri": "https://localhost:8080/"
    },
    "outputId": "1f24e833-9258-46fa-b7f3-4d7bdd47c5c4"
   },
   "execution_count": null,
   "outputs": [
    {
     "output_type": "stream",
     "name": "stdout",
     "text": [
      "Num of rows in file = 39\n"
     ]
    }
   ]
  },
  {
   "cell_type": "markdown",
   "source": [
    "### Frames per word after compression\n",
    "\n",
    "hi_my_name_is: 56/4 = 14\n",
    "\n",
    "Ilay_Chen: 39/2 = 19.5\n",
    "\n",
    "hello_Raizel: 20/1 = 20\n",
    "\n",
    "Raizel: 33/1 = 33"
   ],
   "metadata": {
    "id": "Lj7w0aUF7hSY"
   }
  },
  {
   "cell_type": "markdown",
   "source": [
    "#ASL net\n",
    "### added here cause coalb is being difficult"
   ],
   "metadata": {
    "id": "BjpBv75YK6pX"
   }
  },
  {
   "cell_type": "code",
   "source": [
    "!pip install tflite_runtime"
   ],
   "metadata": {
    "id": "NBihBhr2LRH_",
    "outputId": "6dbc6cf6-15b0-4230-b01f-b71ad66eaf14",
    "colab": {
     "base_uri": "https://localhost:8080/"
    },
    "ExecuteTime": {
     "end_time": "2024-05-06T10:46:23.633168Z",
     "start_time": "2024-05-06T10:46:13.733417Z"
    }
   },
   "outputs": [
    {
     "name": "stdout",
     "output_type": "stream",
     "text": [
      "Looking in indexes: https://pypi.org/simple, https://pypi.ngc.nvidia.com\r\n",
      "Collecting tflite_runtime\r\n",
      "  Obtaining dependency information for tflite_runtime from https://files.pythonhosted.org/packages/80/ba/a775ae2886b79c182375f0dbefda4cf807a38782e10c2b00e7a1491ffc9f/tflite_runtime-2.14.0-cp38-cp38-manylinux2014_x86_64.whl.metadata\r\n",
      "  Downloading tflite_runtime-2.14.0-cp38-cp38-manylinux2014_x86_64.whl.metadata (1.4 kB)\r\n",
      "Requirement already satisfied: numpy>=1.23.2 in ./venv/lib/python3.8/site-packages (from tflite_runtime) (1.24.4)\r\n",
      "Downloading tflite_runtime-2.14.0-cp38-cp38-manylinux2014_x86_64.whl (2.4 MB)\r\n",
      "\u001B[2K   \u001B[90m━━━━━━━━━━━━━━━━━━━━━━━━━━━━━━━━━━━━━━━━\u001B[0m \u001B[32m2.4/2.4 MB\u001B[0m \u001B[31m2.1 MB/s\u001B[0m eta \u001B[36m0:00:00\u001B[0ma \u001B[36m0:00:01\u001B[0m0m\r\n",
      "\u001B[?25hInstalling collected packages: tflite_runtime\r\n",
      "Successfully installed tflite_runtime-2.14.0\r\n",
      "\r\n",
      "\u001B[1m[\u001B[0m\u001B[34;49mnotice\u001B[0m\u001B[1;39;49m]\u001B[0m\u001B[39;49m A new release of pip is available: \u001B[0m\u001B[31;49m23.2.1\u001B[0m\u001B[39;49m -> \u001B[0m\u001B[32;49m24.0\u001B[0m\r\n",
      "\u001B[1m[\u001B[0m\u001B[34;49mnotice\u001B[0m\u001B[1;39;49m]\u001B[0m\u001B[39;49m To update, run: \u001B[0m\u001B[32;49mpip install --upgrade pip\u001B[0m\r\n"
     ]
    }
   ],
   "execution_count": 9
  },
  {
   "cell_type": "code",
   "source": [
    "import tflite_runtime.interpreter as tflite\n",
    "import json\n",
    "import pandas as pd"
   ],
   "metadata": {
    "id": "_EY09uKbLLVO",
    "ExecuteTime": {
     "end_time": "2024-05-06T10:46:23.646202Z",
     "start_time": "2024-05-06T10:46:23.635568Z"
    }
   },
   "outputs": [],
   "execution_count": 10
  },
  {
   "cell_type": "code",
   "source": [
    "selected_columns = [\"x_face_0\", \"x_face_61\", \"x_face_185\", \"x_face_40\", \"x_face_39\", \"x_face_37\", \"x_face_267\", \"x_face_269\", \"x_face_270\", \"x_face_409\", \"x_face_291\", \"x_face_146\", \"x_face_91\", \"x_face_181\", \"x_face_84\", \"x_face_17\", \"x_face_314\", \"x_face_405\", \"x_face_321\", \"x_face_375\", \"x_face_78\", \"x_face_191\", \"x_face_80\", \"x_face_81\", \"x_face_82\", \"x_face_13\", \"x_face_312\", \"x_face_311\", \"x_face_310\", \"x_face_415\", \"x_face_95\", \"x_face_88\", \"x_face_178\", \"x_face_87\", \"x_face_14\", \"x_face_317\", \"x_face_402\", \"x_face_318\", \"x_face_324\", \"x_face_308\", \"x_left_hand_0\", \"x_left_hand_1\", \"x_left_hand_2\", \"x_left_hand_3\", \"x_left_hand_4\", \"x_left_hand_5\", \"x_left_hand_6\", \"x_left_hand_7\", \"x_left_hand_8\", \"x_left_hand_9\", \"x_left_hand_10\", \"x_left_hand_11\", \"x_left_hand_12\", \"x_left_hand_13\", \"x_left_hand_14\", \"x_left_hand_15\", \"x_left_hand_16\", \"x_left_hand_17\", \"x_left_hand_18\", \"x_left_hand_19\", \"x_left_hand_20\", \"x_right_hand_0\", \"x_right_hand_1\", \"x_right_hand_2\", \"x_right_hand_3\", \"x_right_hand_4\", \"x_right_hand_5\", \"x_right_hand_6\", \"x_right_hand_7\", \"x_right_hand_8\", \"x_right_hand_9\", \"x_right_hand_10\", \"x_right_hand_11\", \"x_right_hand_12\", \"x_right_hand_13\", \"x_right_hand_14\", \"x_right_hand_15\", \"x_right_hand_16\", \"x_right_hand_17\", \"x_right_hand_18\", \"x_right_hand_19\", \"x_right_hand_20\", \"x_face_1\", \"x_face_2\", \"x_face_98\", \"x_face_327\", \"x_face_33\", \"x_face_7\", \"x_face_163\", \"x_face_144\", \"x_face_145\", \"x_face_153\", \"x_face_154\", \"x_face_155\", \"x_face_133\", \"x_face_246\", \"x_face_161\", \"x_face_160\", \"x_face_159\", \"x_face_158\", \"x_face_157\", \"x_face_173\", \"x_face_263\", \"x_face_249\", \"x_face_390\", \"x_face_373\", \"x_face_374\", \"x_face_380\", \"x_face_381\", \"x_face_382\", \"x_face_362\", \"x_face_466\", \"x_face_388\", \"x_face_387\", \"x_face_386\", \"x_face_385\", \"x_face_384\", \"x_face_398\", \"x_pose_12\", \"x_pose_14\", \"x_pose_16\", \"x_pose_18\", \"x_pose_20\", \"x_pose_22\", \"x_pose_11\", \"x_pose_13\", \"x_pose_15\", \"x_pose_17\", \"x_pose_19\", \"x_pose_21\", \"y_face_0\", \"y_face_61\", \"y_face_185\", \"y_face_40\", \"y_face_39\", \"y_face_37\", \"y_face_267\", \"y_face_269\", \"y_face_270\", \"y_face_409\", \"y_face_291\", \"y_face_146\", \"y_face_91\", \"y_face_181\", \"y_face_84\", \"y_face_17\", \"y_face_314\", \"y_face_405\", \"y_face_321\", \"y_face_375\", \"y_face_78\", \"y_face_191\", \"y_face_80\", \"y_face_81\", \"y_face_82\", \"y_face_13\", \"y_face_312\", \"y_face_311\", \"y_face_310\", \"y_face_415\", \"y_face_95\", \"y_face_88\", \"y_face_178\", \"y_face_87\", \"y_face_14\", \"y_face_317\", \"y_face_402\", \"y_face_318\", \"y_face_324\", \"y_face_308\", \"y_left_hand_0\", \"y_left_hand_1\", \"y_left_hand_2\", \"y_left_hand_3\", \"y_left_hand_4\", \"y_left_hand_5\", \"y_left_hand_6\", \"y_left_hand_7\", \"y_left_hand_8\", \"y_left_hand_9\", \"y_left_hand_10\", \"y_left_hand_11\", \"y_left_hand_12\", \"y_left_hand_13\", \"y_left_hand_14\", \"y_left_hand_15\", \"y_left_hand_16\", \"y_left_hand_17\", \"y_left_hand_18\", \"y_left_hand_19\", \"y_left_hand_20\", \"y_right_hand_0\", \"y_right_hand_1\", \"y_right_hand_2\", \"y_right_hand_3\", \"y_right_hand_4\", \"y_right_hand_5\", \"y_right_hand_6\", \"y_right_hand_7\", \"y_right_hand_8\", \"y_right_hand_9\", \"y_right_hand_10\", \"y_right_hand_11\", \"y_right_hand_12\", \"y_right_hand_13\", \"y_right_hand_14\", \"y_right_hand_15\", \"y_right_hand_16\", \"y_right_hand_17\", \"y_right_hand_18\", \"y_right_hand_19\", \"y_right_hand_20\", \"y_face_1\", \"y_face_2\", \"y_face_98\", \"y_face_327\", \"y_face_33\", \"y_face_7\", \"y_face_163\", \"y_face_144\", \"y_face_145\", \"y_face_153\", \"y_face_154\", \"y_face_155\", \"y_face_133\", \"y_face_246\", \"y_face_161\", \"y_face_160\", \"y_face_159\", \"y_face_158\", \"y_face_157\", \"y_face_173\", \"y_face_263\", \"y_face_249\", \"y_face_390\", \"y_face_373\", \"y_face_374\", \"y_face_380\", \"y_face_381\", \"y_face_382\", \"y_face_362\", \"y_face_466\", \"y_face_388\", \"y_face_387\", \"y_face_386\", \"y_face_385\", \"y_face_384\", \"y_face_398\", \"y_pose_12\", \"y_pose_14\", \"y_pose_16\", \"y_pose_18\", \"y_pose_20\", \"y_pose_22\", \"y_pose_11\", \"y_pose_13\", \"y_pose_15\", \"y_pose_17\", \"y_pose_19\", \"y_pose_21\", \"z_face_0\", \"z_face_61\", \"z_face_185\", \"z_face_40\", \"z_face_39\", \"z_face_37\", \"z_face_267\", \"z_face_269\", \"z_face_270\", \"z_face_409\", \"z_face_291\", \"z_face_146\", \"z_face_91\", \"z_face_181\", \"z_face_84\", \"z_face_17\", \"z_face_314\", \"z_face_405\", \"z_face_321\", \"z_face_375\", \"z_face_78\", \"z_face_191\", \"z_face_80\", \"z_face_81\", \"z_face_82\", \"z_face_13\", \"z_face_312\", \"z_face_311\", \"z_face_310\", \"z_face_415\", \"z_face_95\", \"z_face_88\", \"z_face_178\", \"z_face_87\", \"z_face_14\", \"z_face_317\", \"z_face_402\", \"z_face_318\", \"z_face_324\", \"z_face_308\", \"z_left_hand_0\", \"z_left_hand_1\", \"z_left_hand_2\", \"z_left_hand_3\", \"z_left_hand_4\", \"z_left_hand_5\", \"z_left_hand_6\", \"z_left_hand_7\", \"z_left_hand_8\", \"z_left_hand_9\", \"z_left_hand_10\", \"z_left_hand_11\", \"z_left_hand_12\", \"z_left_hand_13\", \"z_left_hand_14\", \"z_left_hand_15\", \"z_left_hand_16\", \"z_left_hand_17\", \"z_left_hand_18\", \"z_left_hand_19\", \"z_left_hand_20\", \"z_right_hand_0\", \"z_right_hand_1\", \"z_right_hand_2\", \"z_right_hand_3\", \"z_right_hand_4\", \"z_right_hand_5\", \"z_right_hand_6\", \"z_right_hand_7\", \"z_right_hand_8\", \"z_right_hand_9\", \"z_right_hand_10\", \"z_right_hand_11\", \"z_right_hand_12\", \"z_right_hand_13\", \"z_right_hand_14\", \"z_right_hand_15\", \"z_right_hand_16\", \"z_right_hand_17\", \"z_right_hand_18\", \"z_right_hand_19\", \"z_right_hand_20\", \"z_face_1\", \"z_face_2\", \"z_face_98\", \"z_face_327\", \"z_face_33\", \"z_face_7\", \"z_face_163\", \"z_face_144\", \"z_face_145\", \"z_face_153\", \"z_face_154\", \"z_face_155\", \"z_face_133\", \"z_face_246\", \"z_face_161\", \"z_face_160\", \"z_face_159\", \"z_face_158\", \"z_face_157\", \"z_face_173\", \"z_face_263\", \"z_face_249\", \"z_face_390\", \"z_face_373\", \"z_face_374\", \"z_face_380\", \"z_face_381\", \"z_face_382\", \"z_face_362\", \"z_face_466\", \"z_face_388\", \"z_face_387\", \"z_face_386\", \"z_face_385\", \"z_face_384\", \"z_face_398\", \"z_pose_12\", \"z_pose_14\", \"z_pose_16\", \"z_pose_18\", \"z_pose_20\", \"z_pose_22\", \"z_pose_11\", \"z_pose_13\", \"z_pose_15\", \"z_pose_17\", \"z_pose_19\", \"z_pose_21\"]"
   ],
   "metadata": {
    "id": "ZK45l-aULJK5",
    "ExecuteTime": {
     "end_time": "2024-05-06T10:46:23.658977Z",
     "start_time": "2024-05-06T10:46:23.647924Z"
    }
   },
   "outputs": [],
   "execution_count": 11
  },
  {
   "cell_type": "code",
   "source": [
    "def load_relevant_data_subset(pq_path):\n",
    "    return pd.read_parquet(pq_path, columns=selected_columns)"
   ],
   "metadata": {
    "id": "e92mywKeLE3S"
   },
   "execution_count": null,
   "outputs": []
  },
  {
   "cell_type": "code",
   "source": [
    "########### Detector net short videos ##########\n",
    "i = 1\n",
    "prefix = f'/content/gdrive/MyDrive/ASL_fingerspelling_project/data/This_is_a_video_with_many_words/output_{i}.parquet'\n",
    "while os.path.exists(prefix):\n",
    "  start_time = time.time()\n",
    "  frames = load_relevant_data_subset(prefix)\n",
    "  interpreter = tflite.Interpreter(\"/content/gdrive/MyDrive/ASL_fingerspelling_project/models/model.tflite\")\n",
    "\n",
    "  REQUIRED_SIGNATURE = \"serving_default\"\n",
    "  REQUIRED_OUTPUT = \"outputs\"\n",
    "\n",
    "  with open (\"/content/gdrive/MyDrive/ASL_fingerspelling_project/models/character_to_prediction_index.json\", \"r\") as f:\n",
    "      character_map = json.load(f)\n",
    "  rev_character_map = {j:i for i,j in character_map.items()}\n",
    "\n",
    "  found_signatures = list(interpreter.get_signature_list().keys())\n",
    "\n",
    "  if REQUIRED_SIGNATURE not in found_signatures:\n",
    "      raise KernelEvalException('Required input signature not found.')\n",
    "\n",
    "  prediction_fn = interpreter.get_signature_runner(\"serving_default\")\n",
    "\n",
    "  output = prediction_fn(inputs=frames)\n",
    "  # output = prediction_fn(inputs=cuted_frames)\n",
    "\n",
    "  prediction_str = \"\".join([rev_character_map.get(s, \"\") for s in np.argmax(output[REQUIRED_OUTPUT], axis=1)])\n",
    "  print (prediction_str)\n",
    "  end_time = time.time()\n",
    "  total_time = end_time - start_time\n",
    "  print(f\"Total time taken: {total_time} seconds\")\n",
    "  i += 1\n",
    "  prefix = f'/content/gdrive/MyDrive/ASL_fingerspelling_project/data/This_is_a_video_with_many_words/output_{i}.parquet'"
   ],
   "metadata": {
    "id": "KiWcgmbBK6Cs",
    "outputId": "b4d2f39d-c985-4ba5-efe2-1b62d370febe",
    "colab": {
     "base_uri": "https://localhost:8080/"
    }
   },
   "execution_count": null,
   "outputs": [
    {
     "output_type": "stream",
     "name": "stdout",
     "text": [
      "tisiaca\n",
      "Total time taken: 3.2726755142211914 seconds\n",
      "sisa video\n",
      "Total time taken: 3.0265185832977295 seconds\n",
      "100-010-4142\n",
      "Total time taken: 3.060882568359375 seconds\n",
      "son street south this month\n",
      "Total time taken: 3.5280752182006836 seconds\n",
      "the anny\n",
      "Total time taken: 4.5022618770599365 seconds\n",
      "jonny woods\n",
      "Total time taken: 3.227696418762207 seconds\n",
      "ars\n",
      "Total time taken: 3.2177321910858154 seconds\n",
      "www.services.com/states-san\n",
      "Total time taken: 3.63506817817688 seconds\n"
     ]
    }
   ]
  },
  {
   "cell_type": "code",
   "source": [
    "######## setector net regular ########\n",
    "prefix = f'/content/gdrive/MyDrive/ASL_fingerspelling_project/data/This_is_a_video_with_many_words/output.parquet'\n",
    "\n",
    "start_time = time.time()\n",
    "frames = load_relevant_data_subset(prefix)\n",
    "interpreter = tflite.Interpreter(\"/content/gdrive/MyDrive/ASL_fingerspelling_project/models/model.tflite\")\n",
    "\n",
    "REQUIRED_SIGNATURE = \"serving_default\"\n",
    "REQUIRED_OUTPUT = \"outputs\"\n",
    "\n",
    "with open (\"/content/gdrive/MyDrive/ASL_fingerspelling_project/models/character_to_prediction_index.json\", \"r\") as f:\n",
    "    character_map = json.load(f)\n",
    "rev_character_map = {j:i for i,j in character_map.items()}\n",
    "\n",
    "found_signatures = list(interpreter.get_signature_list().keys())\n",
    "\n",
    "if REQUIRED_SIGNATURE not in found_signatures:\n",
    "    raise KernelEvalException('Required input signature not found.')\n",
    "\n",
    "prediction_fn = interpreter.get_signature_runner(\"serving_default\")\n",
    "\n",
    "output = prediction_fn(inputs=frames)\n",
    "# output = prediction_fn(inputs=cuted_frames)\n",
    "\n",
    "prediction_str = \"\".join([rev_character_map.get(s, \"\") for s in np.argmax(output[REQUIRED_OUTPUT], axis=1)])\n",
    "print (prediction_str)\n",
    "end_time = time.time()\n",
    "total_time = end_time - start_time\n",
    "print(f\"Total time taken: {total_time} seconds\")"
   ],
   "metadata": {
    "id": "_vBPv7MjSX-q",
    "outputId": "8851398d-331b-4e90-9ce5-aad0ad1a7202",
    "colab": {
     "base_uri": "https://localhost:8080/"
    }
   },
   "execution_count": null,
   "outputs": [
    {
     "output_type": "stream",
     "name": "stdout",
     "text": [
      "tisisa video with many words\n",
      "Total time taken: 4.551240921020508 seconds\n"
     ]
    }
   ]
  },
  {
   "cell_type": "markdown",
   "source": [
    "# ***one pipeline - run all frame by frame.***"
   ],
   "metadata": {
    "id": "Zco-t1z3PxJs"
   }
  },
  {
   "cell_type": "code",
   "source": [
    "from multiprocessing import Process"
   ],
   "metadata": {
    "id": "-47jKIhNg8eh",
    "ExecuteTime": {
     "end_time": "2024-05-06T10:46:34.902332Z",
     "start_time": "2024-05-06T10:46:34.900117Z"
    }
   },
   "outputs": [],
   "execution_count": 12
  },
  {
   "cell_type": "code",
   "source": [
    "def run_words_prediction(data_list, prediction_fn):\n",
    "          # Create a DataFrame from the data list\n",
    "          frames = pd.DataFrame(data_list, columns=selected_columns)\n",
    "          output = prediction_fn(inputs=frames)\n",
    "          # now predict\n",
    "          prediction_str = \"\".join([rev_character_map.get(s, \"\") for s in np.argmax(output[REQUIRED_OUTPUT], axis=1)])\n",
    "          print (prediction_str)\n",
    "\n",
    "          end_time = time.time()\n",
    "          total_time = end_time - start_time\n",
    "          # print(f\"Total time taken so far: {total_time} seconds\")\n",
    "\n",
    "          # Get the current frame number\n",
    "          current_frame_number = cap.get(cv2.CAP_PROP_POS_FRAMES)\n",
    "\n",
    "          # Calculate the time in seconds\n",
    "          time_in_seconds = current_frame_number / fps\n",
    "\n",
    "          # print(f\"Time elapsed at video so far: {time_in_seconds} seconds\")"
   ],
   "metadata": {
    "id": "4moVSTFtg-Yh",
    "ExecuteTime": {
     "end_time": "2024-05-06T10:47:31.225833Z",
     "start_time": "2024-05-06T10:47:31.222039Z"
    }
   },
   "outputs": [],
   "execution_count": 15
  },
  {
   "cell_type": "code",
   "source": [
    "# Lets simulate the input video\n",
    "prefix = \"/home/ilaych/Projects/asl_playground/\"\n",
    "##### Mediapipe regualr #######\n",
    "mp_holistic = mp.solutions.holistic\n",
    "start_time = time.time()\n",
    "\n",
    "\n",
    "# Replace with your video file path\n",
    "video_path = prefix + \"video.mp4\"\n",
    "count = 1\n",
    "\n",
    "# Some important paramenters\n",
    "COMPRESS_NUM_FRAMES = 2    # take one frame from each COMPRESS_NUM_FRAMES\n",
    "FRAMES_PER_SHORT_VIDEO = 100\n",
    "FRAMES_OVERLAP = 25\n",
    "# if total_frames // COMPRESS_NUM_FRAMES < 15:   # min num of frames for detection is 15\n",
    "#   COMPRESS_NUM_FRAMES = total_frames // 20\n",
    "\n",
    "# Lets load the detection net\n",
    "interpreter = tflite.Interpreter(\"/home/ilaych/Projects/asl_playground/model.tflite\")\n",
    "\n",
    "REQUIRED_SIGNATURE = \"serving_default\"\n",
    "REQUIRED_OUTPUT = \"outputs\"\n",
    "\n",
    "with open (\"/home/ilaych/Projects/asl_playground/character_to_prediction_index.json\", \"r\") as f:\n",
    "    character_map = json.load(f)\n",
    "rev_character_map = {j:i for i,j in character_map.items()}\n",
    "\n",
    "found_signatures = list(interpreter.get_signature_list().keys())\n",
    "\n",
    "if REQUIRED_SIGNATURE not in found_signatures:\n",
    "    raise KernelEvalException('Required input signature not found.')\n",
    "\n",
    "prediction_fn = interpreter.get_signature_runner(\"serving_default\")\n",
    "\n",
    "\n",
    "# Create an empty list to store landmark data\n",
    "data_list = []\n",
    "\n",
    "skip_image = False\n",
    "\n",
    "with mp_holistic.Holistic(\n",
    "    model_complexity=1) as holistic:\n",
    "\n",
    "    # Open the video capture\n",
    "    cap = cv2.VideoCapture(video_path)\n",
    "\n",
    "    # Get frames per second (fps)\n",
    "    fps = cap.get(cv2.CAP_PROP_FPS)\n",
    "    total_frames = int(cap.get(cv2.CAP_PROP_FRAME_COUNT))\n",
    "\n",
    "    print(f\"The frames per second of the video is: {fps}\")\n",
    "\n",
    "    # Process each video frame\n",
    "    while cap.isOpened():\n",
    "        success, image = cap.read()\n",
    "\n",
    "        # read only every second frame\n",
    "        if skip_image:\n",
    "          skip_image = False\n",
    "          continue\n",
    "        if not skip_image:\n",
    "          skip_image = True\n",
    "\n",
    "        if not success:\n",
    "          if len(data_list) != 0:\n",
    "            # print(\"call the net!!\")\n",
    "            # server1 = Process(target=run_words_prediction(data_list, prediction_fn))\n",
    "            server1 = Process(target=run_words_prediction, args=(data_list, prediction_fn))\n",
    "            server1.start()\n",
    "            server1.join()\n",
    "          break\n",
    "\n",
    "        # current_frame_number = cap.get(cv2.CAP_PROP_POS_FRAMES)\n",
    "        # print(f\"frames gone so far: {current_frame_number}/{total_frames} frames\")\n",
    "\n",
    "        # Convert BGR to RGB for MediaPipe compatibility\n",
    "        # image = cv2.cvtColor(image, cv2.COLOR_BGR2RGB)\n",
    "\n",
    "        # Process the image with MediaPipe Holistic\n",
    "        results = holistic.process(image)\n",
    "\n",
    "        # Extract the selected landmarks and their coordinates\n",
    "        landmark_data = []\n",
    "        for column in selected_columns:\n",
    "            splitted = column.split('_')\n",
    "            if len(splitted) == 3:\n",
    "              coordinate, category, landmark = splitted\n",
    "            else:\n",
    "              coordinate = splitted[0][0]\n",
    "              category = splitted[1]  + \"_\"+ splitted[2]\n",
    "              landmark = splitted[3]\n",
    "\n",
    "            if category == 'pose' and results.pose_landmarks :\n",
    "                tmp = getattr(results.pose_landmarks.landmark[int(landmark)],coordinate, None)\n",
    "            elif category == 'face' and results.face_landmarks:\n",
    "                tmp = getattr(results.face_landmarks.landmark[int(landmark)], coordinate, None)\n",
    "            elif category == 'left_hand' and results.left_hand_landmarks:\n",
    "                tmp= getattr(results.left_hand_landmarks.landmark[int(landmark)], coordinate, None)\n",
    "            elif category == 'right_hand' and results.right_hand_landmarks:\n",
    "                tmp = getattr(results.right_hand_landmarks.landmark[int(landmark)], coordinate, None)\n",
    "\n",
    "            landmark_data.append(np.float32(tmp))\n",
    "\n",
    "        # Append landmark data for this frame to the list\n",
    "        data_list.append(landmark_data)\n",
    "\n",
    "        if len(data_list) == (FRAMES_PER_SHORT_VIDEO+FRAMES_OVERLAP)*count:\n",
    "          # print(\"call the net!!\")\n",
    "          # server1 = Process(target=run_words_prediction(data_list, prediction_fn))\n",
    "          server1 = Process(target=run_words_prediction, args=(data_list, prediction_fn))\n",
    "          server1.start()\n",
    "          count = count + 1\n",
    "\n",
    "          # remove unnessesery data (?) why not run prediction on all data?? mybe the same time?\n",
    "          # Remove the specified number of rows from the beginning of the list\n",
    "          # data_list = data_list[FRAMES_PER_SHORT_VIDEO:]\n",
    "\n",
    "\n",
    "    # Release resources\n",
    "    cap.release()\n",
    "    cv2.destroyAllWindows()\n",
    "\n",
    "# Create a DataFrame from the data list\n",
    "df = pd.DataFrame(data_list, columns=selected_columns)\n",
    "\n",
    "# Save the DataFrame as a Parquet file\n",
    "df.to_parquet(prefix+f\"output.parquet\", index=False)\n",
    "\n",
    "print(f\"Landmark data saved to output.parquet\")\n",
    "end_time = time.time()\n",
    "total_time = end_time - start_time\n",
    "print(f\"Total time taken: {total_time} seconds\")"
   ],
   "metadata": {
    "id": "IVdZgMnb05lU",
    "outputId": "76194584-a23d-469f-abe7-f406012d68c8",
    "colab": {
     "base_uri": "https://localhost:8080/"
    },
    "ExecuteTime": {
     "end_time": "2024-05-06T10:47:52.628832Z",
     "start_time": "2024-05-06T10:47:31.473454Z"
    }
   },
   "outputs": [
    {
     "name": "stderr",
     "output_type": "stream",
     "text": [
      "I0000 00:00:1714992451.529116  560940 gl_context_egl.cc:85] Successfully initialized EGL. Major : 1 Minor: 5\n",
      "I0000 00:00:1714992451.529985  569177 gl_context.cc:357] GL version: 3.2 (OpenGL ES 3.2 Mesa 21.2.6), renderer: Mesa Intel(R) UHD Graphics (TGL GT1)\n"
     ]
    },
    {
     "name": "stdout",
     "output_type": "stream",
     "text": [
      "The frames per second of the video is: 30.10565197939729\n",
      "tisisa video\n",
      "tisisa video with many\n",
      "tisis a video with many wors\n"
     ]
    },
    {
     "ename": "ImportError",
     "evalue": "Unable to find a usable engine; tried using: 'pyarrow', 'fastparquet'.\nA suitable version of pyarrow or fastparquet is required for parquet support.\nTrying to import the above resulted in these errors:\n - Missing optional dependency 'pyarrow'. pyarrow is required for parquet support. Use pip or conda to install pyarrow.\n - Missing optional dependency 'fastparquet'. fastparquet is required for parquet support. Use pip or conda to install fastparquet.",
     "output_type": "error",
     "traceback": [
      "\u001B[0;31m---------------------------------------------------------------------------\u001B[0m",
      "\u001B[0;31mImportError\u001B[0m                               Traceback (most recent call last)",
      "Cell \u001B[0;32mIn[16], line 128\u001B[0m\n\u001B[1;32m    125\u001B[0m df \u001B[38;5;241m=\u001B[39m pd\u001B[38;5;241m.\u001B[39mDataFrame(data_list, columns\u001B[38;5;241m=\u001B[39mselected_columns)\n\u001B[1;32m    127\u001B[0m \u001B[38;5;66;03m# Save the DataFrame as a Parquet file\u001B[39;00m\n\u001B[0;32m--> 128\u001B[0m \u001B[43mdf\u001B[49m\u001B[38;5;241;43m.\u001B[39;49m\u001B[43mto_parquet\u001B[49m\u001B[43m(\u001B[49m\u001B[43mprefix\u001B[49m\u001B[38;5;241;43m+\u001B[39;49m\u001B[38;5;124;43mf\u001B[39;49m\u001B[38;5;124;43m\"\u001B[39;49m\u001B[38;5;124;43moutput.parquet\u001B[39;49m\u001B[38;5;124;43m\"\u001B[39;49m\u001B[43m,\u001B[49m\u001B[43m \u001B[49m\u001B[43mindex\u001B[49m\u001B[38;5;241;43m=\u001B[39;49m\u001B[38;5;28;43;01mFalse\u001B[39;49;00m\u001B[43m)\u001B[49m\n\u001B[1;32m    130\u001B[0m \u001B[38;5;28mprint\u001B[39m(\u001B[38;5;124mf\u001B[39m\u001B[38;5;124m\"\u001B[39m\u001B[38;5;124mLandmark data saved to output.parquet\u001B[39m\u001B[38;5;124m\"\u001B[39m)\n\u001B[1;32m    131\u001B[0m end_time \u001B[38;5;241m=\u001B[39m time\u001B[38;5;241m.\u001B[39mtime()\n",
      "File \u001B[0;32m~/AndroidStudioProjects/ASL_fingerspelling/venv/lib/python3.8/site-packages/pandas/core/frame.py:2889\u001B[0m, in \u001B[0;36mDataFrame.to_parquet\u001B[0;34m(self, path, engine, compression, index, partition_cols, storage_options, **kwargs)\u001B[0m\n\u001B[1;32m   2802\u001B[0m \u001B[38;5;250m\u001B[39m\u001B[38;5;124;03m\"\"\"\u001B[39;00m\n\u001B[1;32m   2803\u001B[0m \u001B[38;5;124;03mWrite a DataFrame to the binary parquet format.\u001B[39;00m\n\u001B[1;32m   2804\u001B[0m \n\u001B[0;32m   (...)\u001B[0m\n\u001B[1;32m   2885\u001B[0m \u001B[38;5;124;03m>>> content = f.read()\u001B[39;00m\n\u001B[1;32m   2886\u001B[0m \u001B[38;5;124;03m\"\"\"\u001B[39;00m\n\u001B[1;32m   2887\u001B[0m \u001B[38;5;28;01mfrom\u001B[39;00m \u001B[38;5;21;01mpandas\u001B[39;00m\u001B[38;5;21;01m.\u001B[39;00m\u001B[38;5;21;01mio\u001B[39;00m\u001B[38;5;21;01m.\u001B[39;00m\u001B[38;5;21;01mparquet\u001B[39;00m \u001B[38;5;28;01mimport\u001B[39;00m to_parquet\n\u001B[0;32m-> 2889\u001B[0m \u001B[38;5;28;01mreturn\u001B[39;00m \u001B[43mto_parquet\u001B[49m\u001B[43m(\u001B[49m\n\u001B[1;32m   2890\u001B[0m \u001B[43m    \u001B[49m\u001B[38;5;28;43mself\u001B[39;49m\u001B[43m,\u001B[49m\n\u001B[1;32m   2891\u001B[0m \u001B[43m    \u001B[49m\u001B[43mpath\u001B[49m\u001B[43m,\u001B[49m\n\u001B[1;32m   2892\u001B[0m \u001B[43m    \u001B[49m\u001B[43mengine\u001B[49m\u001B[43m,\u001B[49m\n\u001B[1;32m   2893\u001B[0m \u001B[43m    \u001B[49m\u001B[43mcompression\u001B[49m\u001B[38;5;241;43m=\u001B[39;49m\u001B[43mcompression\u001B[49m\u001B[43m,\u001B[49m\n\u001B[1;32m   2894\u001B[0m \u001B[43m    \u001B[49m\u001B[43mindex\u001B[49m\u001B[38;5;241;43m=\u001B[39;49m\u001B[43mindex\u001B[49m\u001B[43m,\u001B[49m\n\u001B[1;32m   2895\u001B[0m \u001B[43m    \u001B[49m\u001B[43mpartition_cols\u001B[49m\u001B[38;5;241;43m=\u001B[39;49m\u001B[43mpartition_cols\u001B[49m\u001B[43m,\u001B[49m\n\u001B[1;32m   2896\u001B[0m \u001B[43m    \u001B[49m\u001B[43mstorage_options\u001B[49m\u001B[38;5;241;43m=\u001B[39;49m\u001B[43mstorage_options\u001B[49m\u001B[43m,\u001B[49m\n\u001B[1;32m   2897\u001B[0m \u001B[43m    \u001B[49m\u001B[38;5;241;43m*\u001B[39;49m\u001B[38;5;241;43m*\u001B[39;49m\u001B[43mkwargs\u001B[49m\u001B[43m,\u001B[49m\n\u001B[1;32m   2898\u001B[0m \u001B[43m\u001B[49m\u001B[43m)\u001B[49m\n",
      "File \u001B[0;32m~/AndroidStudioProjects/ASL_fingerspelling/venv/lib/python3.8/site-packages/pandas/io/parquet.py:407\u001B[0m, in \u001B[0;36mto_parquet\u001B[0;34m(df, path, engine, compression, index, storage_options, partition_cols, **kwargs)\u001B[0m\n\u001B[1;32m    405\u001B[0m \u001B[38;5;28;01mif\u001B[39;00m \u001B[38;5;28misinstance\u001B[39m(partition_cols, \u001B[38;5;28mstr\u001B[39m):\n\u001B[1;32m    406\u001B[0m     partition_cols \u001B[38;5;241m=\u001B[39m [partition_cols]\n\u001B[0;32m--> 407\u001B[0m impl \u001B[38;5;241m=\u001B[39m \u001B[43mget_engine\u001B[49m\u001B[43m(\u001B[49m\u001B[43mengine\u001B[49m\u001B[43m)\u001B[49m\n\u001B[1;32m    409\u001B[0m path_or_buf: FilePath \u001B[38;5;241m|\u001B[39m WriteBuffer[\u001B[38;5;28mbytes\u001B[39m] \u001B[38;5;241m=\u001B[39m io\u001B[38;5;241m.\u001B[39mBytesIO() \u001B[38;5;28;01mif\u001B[39;00m path \u001B[38;5;129;01mis\u001B[39;00m \u001B[38;5;28;01mNone\u001B[39;00m \u001B[38;5;28;01melse\u001B[39;00m path\n\u001B[1;32m    411\u001B[0m impl\u001B[38;5;241m.\u001B[39mwrite(\n\u001B[1;32m    412\u001B[0m     df,\n\u001B[1;32m    413\u001B[0m     path_or_buf,\n\u001B[0;32m   (...)\u001B[0m\n\u001B[1;32m    418\u001B[0m     \u001B[38;5;241m*\u001B[39m\u001B[38;5;241m*\u001B[39mkwargs,\n\u001B[1;32m    419\u001B[0m )\n",
      "File \u001B[0;32m~/AndroidStudioProjects/ASL_fingerspelling/venv/lib/python3.8/site-packages/pandas/io/parquet.py:60\u001B[0m, in \u001B[0;36mget_engine\u001B[0;34m(engine)\u001B[0m\n\u001B[1;32m     57\u001B[0m         \u001B[38;5;28;01mexcept\u001B[39;00m \u001B[38;5;167;01mImportError\u001B[39;00m \u001B[38;5;28;01mas\u001B[39;00m err:\n\u001B[1;32m     58\u001B[0m             error_msgs \u001B[38;5;241m+\u001B[39m\u001B[38;5;241m=\u001B[39m \u001B[38;5;124m\"\u001B[39m\u001B[38;5;130;01m\\n\u001B[39;00m\u001B[38;5;124m - \u001B[39m\u001B[38;5;124m\"\u001B[39m \u001B[38;5;241m+\u001B[39m \u001B[38;5;28mstr\u001B[39m(err)\n\u001B[0;32m---> 60\u001B[0m     \u001B[38;5;28;01mraise\u001B[39;00m \u001B[38;5;167;01mImportError\u001B[39;00m(\n\u001B[1;32m     61\u001B[0m         \u001B[38;5;124m\"\u001B[39m\u001B[38;5;124mUnable to find a usable engine; \u001B[39m\u001B[38;5;124m\"\u001B[39m\n\u001B[1;32m     62\u001B[0m         \u001B[38;5;124m\"\u001B[39m\u001B[38;5;124mtried using: \u001B[39m\u001B[38;5;124m'\u001B[39m\u001B[38;5;124mpyarrow\u001B[39m\u001B[38;5;124m'\u001B[39m\u001B[38;5;124m, \u001B[39m\u001B[38;5;124m'\u001B[39m\u001B[38;5;124mfastparquet\u001B[39m\u001B[38;5;124m'\u001B[39m\u001B[38;5;124m.\u001B[39m\u001B[38;5;130;01m\\n\u001B[39;00m\u001B[38;5;124m\"\u001B[39m\n\u001B[1;32m     63\u001B[0m         \u001B[38;5;124m\"\u001B[39m\u001B[38;5;124mA suitable version of \u001B[39m\u001B[38;5;124m\"\u001B[39m\n\u001B[1;32m     64\u001B[0m         \u001B[38;5;124m\"\u001B[39m\u001B[38;5;124mpyarrow or fastparquet is required for parquet \u001B[39m\u001B[38;5;124m\"\u001B[39m\n\u001B[1;32m     65\u001B[0m         \u001B[38;5;124m\"\u001B[39m\u001B[38;5;124msupport.\u001B[39m\u001B[38;5;130;01m\\n\u001B[39;00m\u001B[38;5;124m\"\u001B[39m\n\u001B[1;32m     66\u001B[0m         \u001B[38;5;124m\"\u001B[39m\u001B[38;5;124mTrying to import the above resulted in these errors:\u001B[39m\u001B[38;5;124m\"\u001B[39m\n\u001B[1;32m     67\u001B[0m         \u001B[38;5;124mf\u001B[39m\u001B[38;5;124m\"\u001B[39m\u001B[38;5;132;01m{\u001B[39;00merror_msgs\u001B[38;5;132;01m}\u001B[39;00m\u001B[38;5;124m\"\u001B[39m\n\u001B[1;32m     68\u001B[0m     )\n\u001B[1;32m     70\u001B[0m \u001B[38;5;28;01mif\u001B[39;00m engine \u001B[38;5;241m==\u001B[39m \u001B[38;5;124m\"\u001B[39m\u001B[38;5;124mpyarrow\u001B[39m\u001B[38;5;124m\"\u001B[39m:\n\u001B[1;32m     71\u001B[0m     \u001B[38;5;28;01mreturn\u001B[39;00m PyArrowImpl()\n",
      "\u001B[0;31mImportError\u001B[0m: Unable to find a usable engine; tried using: 'pyarrow', 'fastparquet'.\nA suitable version of pyarrow or fastparquet is required for parquet support.\nTrying to import the above resulted in these errors:\n - Missing optional dependency 'pyarrow'. pyarrow is required for parquet support. Use pip or conda to install pyarrow.\n - Missing optional dependency 'fastparquet'. fastparquet is required for parquet support. Use pip or conda to install fastparquet."
     ]
    }
   ],
   "execution_count": 16
  },
  {
   "cell_type": "code",
   "source": [],
   "metadata": {
    "id": "X_1lkOLEQoH1"
   },
   "execution_count": null,
   "outputs": []
  }
 ]
}
