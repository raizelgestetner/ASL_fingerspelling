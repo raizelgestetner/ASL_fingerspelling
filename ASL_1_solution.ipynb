{
  "nbformat": 4,
  "nbformat_minor": 0,
  "metadata": {
    "colab": {
      "provenance": [],
      "include_colab_link": true
    },
    "kernelspec": {
      "name": "python3",
      "display_name": "Python 3"
    },
    "language_info": {
      "name": "python"
    }
  },
  "cells": [
    {
      "cell_type": "markdown",
      "metadata": {
        "id": "view-in-github",
        "colab_type": "text"
      },
      "source": [
        "<a href=\"https://colab.research.google.com/github/raizelgestetner/ASL_fingerspelling/blob/main/ASL_1_solution.ipynb\" target=\"_parent\"><img src=\"https://colab.research.google.com/assets/colab-badge.svg\" alt=\"Open In Colab\"/></a>"
      ]
    },
    {
      "cell_type": "markdown",
      "source": [
        "# ***ASL net starts here***"
      ],
      "metadata": {
        "id": "eP-VBBoyGeRG"
      }
    },
    {
      "cell_type": "code",
      "source": [
        "from google.colab import drive\n",
        "drive.mount(\"/content/gdrive/\")"
      ],
      "metadata": {
        "colab": {
          "base_uri": "https://localhost:8080/"
        },
        "id": "9L_OuQtBKAPM",
        "outputId": "ed3499dc-ebfd-4341-99b3-8e329d6d9821"
      },
      "execution_count": 1,
      "outputs": [
        {
          "output_type": "stream",
          "name": "stdout",
          "text": [
            "Mounted at /content/gdrive/\n"
          ]
        }
      ]
    },
    {
      "cell_type": "code",
      "source": [
        "!pip install tflite_runtime"
      ],
      "metadata": {
        "colab": {
          "base_uri": "https://localhost:8080/"
        },
        "id": "0wHlh8tSls-5",
        "outputId": "53773c02-2ec4-4d48-d468-e2d4597c6bc1"
      },
      "execution_count": 2,
      "outputs": [
        {
          "output_type": "stream",
          "name": "stdout",
          "text": [
            "Collecting tflite_runtime\n",
            "  Downloading tflite_runtime-2.14.0-cp310-cp310-manylinux2014_x86_64.whl (2.4 MB)\n",
            "\u001b[2K     \u001b[90m━━━━━━━━━━━━━━━━━━━━━━━━━━━━━━━━━━━━━━━━\u001b[0m \u001b[32m2.4/2.4 MB\u001b[0m \u001b[31m14.6 MB/s\u001b[0m eta \u001b[36m0:00:00\u001b[0m\n",
            "\u001b[?25hRequirement already satisfied: numpy>=1.23.2 in /usr/local/lib/python3.10/dist-packages (from tflite_runtime) (1.25.2)\n",
            "Installing collected packages: tflite_runtime\n",
            "Successfully installed tflite_runtime-2.14.0\n"
          ]
        }
      ]
    },
    {
      "cell_type": "code",
      "execution_count": 7,
      "metadata": {
        "id": "oQw0YL9FlaUP"
      },
      "outputs": [],
      "source": [
        "import tflite_runtime.interpreter as tflite\n",
        "import json\n",
        "import pandas as pd\n",
        "import numpy as np\n",
        "import time\n",
        "import os"
      ]
    },
    {
      "cell_type": "code",
      "source": [
        "selected_columns = [\"x_face_0\", \"x_face_61\", \"x_face_185\", \"x_face_40\", \"x_face_39\", \"x_face_37\", \"x_face_267\", \"x_face_269\", \"x_face_270\", \"x_face_409\", \"x_face_291\", \"x_face_146\", \"x_face_91\", \"x_face_181\", \"x_face_84\", \"x_face_17\", \"x_face_314\", \"x_face_405\", \"x_face_321\", \"x_face_375\", \"x_face_78\", \"x_face_191\", \"x_face_80\", \"x_face_81\", \"x_face_82\", \"x_face_13\", \"x_face_312\", \"x_face_311\", \"x_face_310\", \"x_face_415\", \"x_face_95\", \"x_face_88\", \"x_face_178\", \"x_face_87\", \"x_face_14\", \"x_face_317\", \"x_face_402\", \"x_face_318\", \"x_face_324\", \"x_face_308\", \"x_left_hand_0\", \"x_left_hand_1\", \"x_left_hand_2\", \"x_left_hand_3\", \"x_left_hand_4\", \"x_left_hand_5\", \"x_left_hand_6\", \"x_left_hand_7\", \"x_left_hand_8\", \"x_left_hand_9\", \"x_left_hand_10\", \"x_left_hand_11\", \"x_left_hand_12\", \"x_left_hand_13\", \"x_left_hand_14\", \"x_left_hand_15\", \"x_left_hand_16\", \"x_left_hand_17\", \"x_left_hand_18\", \"x_left_hand_19\", \"x_left_hand_20\", \"x_right_hand_0\", \"x_right_hand_1\", \"x_right_hand_2\", \"x_right_hand_3\", \"x_right_hand_4\", \"x_right_hand_5\", \"x_right_hand_6\", \"x_right_hand_7\", \"x_right_hand_8\", \"x_right_hand_9\", \"x_right_hand_10\", \"x_right_hand_11\", \"x_right_hand_12\", \"x_right_hand_13\", \"x_right_hand_14\", \"x_right_hand_15\", \"x_right_hand_16\", \"x_right_hand_17\", \"x_right_hand_18\", \"x_right_hand_19\", \"x_right_hand_20\", \"x_face_1\", \"x_face_2\", \"x_face_98\", \"x_face_327\", \"x_face_33\", \"x_face_7\", \"x_face_163\", \"x_face_144\", \"x_face_145\", \"x_face_153\", \"x_face_154\", \"x_face_155\", \"x_face_133\", \"x_face_246\", \"x_face_161\", \"x_face_160\", \"x_face_159\", \"x_face_158\", \"x_face_157\", \"x_face_173\", \"x_face_263\", \"x_face_249\", \"x_face_390\", \"x_face_373\", \"x_face_374\", \"x_face_380\", \"x_face_381\", \"x_face_382\", \"x_face_362\", \"x_face_466\", \"x_face_388\", \"x_face_387\", \"x_face_386\", \"x_face_385\", \"x_face_384\", \"x_face_398\", \"x_pose_12\", \"x_pose_14\", \"x_pose_16\", \"x_pose_18\", \"x_pose_20\", \"x_pose_22\", \"x_pose_11\", \"x_pose_13\", \"x_pose_15\", \"x_pose_17\", \"x_pose_19\", \"x_pose_21\", \"y_face_0\", \"y_face_61\", \"y_face_185\", \"y_face_40\", \"y_face_39\", \"y_face_37\", \"y_face_267\", \"y_face_269\", \"y_face_270\", \"y_face_409\", \"y_face_291\", \"y_face_146\", \"y_face_91\", \"y_face_181\", \"y_face_84\", \"y_face_17\", \"y_face_314\", \"y_face_405\", \"y_face_321\", \"y_face_375\", \"y_face_78\", \"y_face_191\", \"y_face_80\", \"y_face_81\", \"y_face_82\", \"y_face_13\", \"y_face_312\", \"y_face_311\", \"y_face_310\", \"y_face_415\", \"y_face_95\", \"y_face_88\", \"y_face_178\", \"y_face_87\", \"y_face_14\", \"y_face_317\", \"y_face_402\", \"y_face_318\", \"y_face_324\", \"y_face_308\", \"y_left_hand_0\", \"y_left_hand_1\", \"y_left_hand_2\", \"y_left_hand_3\", \"y_left_hand_4\", \"y_left_hand_5\", \"y_left_hand_6\", \"y_left_hand_7\", \"y_left_hand_8\", \"y_left_hand_9\", \"y_left_hand_10\", \"y_left_hand_11\", \"y_left_hand_12\", \"y_left_hand_13\", \"y_left_hand_14\", \"y_left_hand_15\", \"y_left_hand_16\", \"y_left_hand_17\", \"y_left_hand_18\", \"y_left_hand_19\", \"y_left_hand_20\", \"y_right_hand_0\", \"y_right_hand_1\", \"y_right_hand_2\", \"y_right_hand_3\", \"y_right_hand_4\", \"y_right_hand_5\", \"y_right_hand_6\", \"y_right_hand_7\", \"y_right_hand_8\", \"y_right_hand_9\", \"y_right_hand_10\", \"y_right_hand_11\", \"y_right_hand_12\", \"y_right_hand_13\", \"y_right_hand_14\", \"y_right_hand_15\", \"y_right_hand_16\", \"y_right_hand_17\", \"y_right_hand_18\", \"y_right_hand_19\", \"y_right_hand_20\", \"y_face_1\", \"y_face_2\", \"y_face_98\", \"y_face_327\", \"y_face_33\", \"y_face_7\", \"y_face_163\", \"y_face_144\", \"y_face_145\", \"y_face_153\", \"y_face_154\", \"y_face_155\", \"y_face_133\", \"y_face_246\", \"y_face_161\", \"y_face_160\", \"y_face_159\", \"y_face_158\", \"y_face_157\", \"y_face_173\", \"y_face_263\", \"y_face_249\", \"y_face_390\", \"y_face_373\", \"y_face_374\", \"y_face_380\", \"y_face_381\", \"y_face_382\", \"y_face_362\", \"y_face_466\", \"y_face_388\", \"y_face_387\", \"y_face_386\", \"y_face_385\", \"y_face_384\", \"y_face_398\", \"y_pose_12\", \"y_pose_14\", \"y_pose_16\", \"y_pose_18\", \"y_pose_20\", \"y_pose_22\", \"y_pose_11\", \"y_pose_13\", \"y_pose_15\", \"y_pose_17\", \"y_pose_19\", \"y_pose_21\", \"z_face_0\", \"z_face_61\", \"z_face_185\", \"z_face_40\", \"z_face_39\", \"z_face_37\", \"z_face_267\", \"z_face_269\", \"z_face_270\", \"z_face_409\", \"z_face_291\", \"z_face_146\", \"z_face_91\", \"z_face_181\", \"z_face_84\", \"z_face_17\", \"z_face_314\", \"z_face_405\", \"z_face_321\", \"z_face_375\", \"z_face_78\", \"z_face_191\", \"z_face_80\", \"z_face_81\", \"z_face_82\", \"z_face_13\", \"z_face_312\", \"z_face_311\", \"z_face_310\", \"z_face_415\", \"z_face_95\", \"z_face_88\", \"z_face_178\", \"z_face_87\", \"z_face_14\", \"z_face_317\", \"z_face_402\", \"z_face_318\", \"z_face_324\", \"z_face_308\", \"z_left_hand_0\", \"z_left_hand_1\", \"z_left_hand_2\", \"z_left_hand_3\", \"z_left_hand_4\", \"z_left_hand_5\", \"z_left_hand_6\", \"z_left_hand_7\", \"z_left_hand_8\", \"z_left_hand_9\", \"z_left_hand_10\", \"z_left_hand_11\", \"z_left_hand_12\", \"z_left_hand_13\", \"z_left_hand_14\", \"z_left_hand_15\", \"z_left_hand_16\", \"z_left_hand_17\", \"z_left_hand_18\", \"z_left_hand_19\", \"z_left_hand_20\", \"z_right_hand_0\", \"z_right_hand_1\", \"z_right_hand_2\", \"z_right_hand_3\", \"z_right_hand_4\", \"z_right_hand_5\", \"z_right_hand_6\", \"z_right_hand_7\", \"z_right_hand_8\", \"z_right_hand_9\", \"z_right_hand_10\", \"z_right_hand_11\", \"z_right_hand_12\", \"z_right_hand_13\", \"z_right_hand_14\", \"z_right_hand_15\", \"z_right_hand_16\", \"z_right_hand_17\", \"z_right_hand_18\", \"z_right_hand_19\", \"z_right_hand_20\", \"z_face_1\", \"z_face_2\", \"z_face_98\", \"z_face_327\", \"z_face_33\", \"z_face_7\", \"z_face_163\", \"z_face_144\", \"z_face_145\", \"z_face_153\", \"z_face_154\", \"z_face_155\", \"z_face_133\", \"z_face_246\", \"z_face_161\", \"z_face_160\", \"z_face_159\", \"z_face_158\", \"z_face_157\", \"z_face_173\", \"z_face_263\", \"z_face_249\", \"z_face_390\", \"z_face_373\", \"z_face_374\", \"z_face_380\", \"z_face_381\", \"z_face_382\", \"z_face_362\", \"z_face_466\", \"z_face_388\", \"z_face_387\", \"z_face_386\", \"z_face_385\", \"z_face_384\", \"z_face_398\", \"z_pose_12\", \"z_pose_14\", \"z_pose_16\", \"z_pose_18\", \"z_pose_20\", \"z_pose_22\", \"z_pose_11\", \"z_pose_13\", \"z_pose_15\", \"z_pose_17\", \"z_pose_19\", \"z_pose_21\"]"
      ],
      "metadata": {
        "id": "1WQDCq6o1VFb"
      },
      "execution_count": 4,
      "outputs": []
    },
    {
      "cell_type": "code",
      "source": [
        "def load_relevant_data_subset(pq_path):\n",
        "    return pd.read_parquet(pq_path, columns=selected_columns)"
      ],
      "metadata": {
        "id": "2rdq_6dpo4GB"
      },
      "execution_count": 5,
      "outputs": []
    },
    {
      "cell_type": "code",
      "source": [
        "prefix = \"/content/gdrive/MyDrive/ASL_fingerspelling_project/data/hi_my_name_is/output.parquet\""
      ],
      "metadata": {
        "id": "jBQIqOez_rlP"
      },
      "execution_count": 6,
      "outputs": []
    },
    {
      "cell_type": "code",
      "source": [
        "i = 1\n",
        "prefix = f'/content/gdrive/MyDrive/ASL_fingerspelling_project/data/hi_my_name_is/output_{i}.parquet'\n",
        "while os.path.exists(prefix):\n",
        "  start_time = time.time()\n",
        "  frames = load_relevant_data_subset(prefix)\n",
        "  interpreter = tflite.Interpreter(\"/content/gdrive/MyDrive/ASL_fingerspelling_project/models/model.tflite\")\n",
        "\n",
        "  REQUIRED_SIGNATURE = \"serving_default\"\n",
        "  REQUIRED_OUTPUT = \"outputs\"\n",
        "\n",
        "  with open (\"/content/gdrive/MyDrive/ASL_fingerspelling_project/models/character_to_prediction_index.json\", \"r\") as f:\n",
        "      character_map = json.load(f)\n",
        "  rev_character_map = {j:i for i,j in character_map.items()}\n",
        "\n",
        "  found_signatures = list(interpreter.get_signature_list().keys())\n",
        "\n",
        "  if REQUIRED_SIGNATURE not in found_signatures:\n",
        "      raise KernelEvalException('Required input signature not found.')\n",
        "\n",
        "  prediction_fn = interpreter.get_signature_runner(\"serving_default\")\n",
        "\n",
        "  output = prediction_fn(inputs=frames)\n",
        "  # output = prediction_fn(inputs=cuted_frames)\n",
        "\n",
        "  prediction_str = \"\".join([rev_character_map.get(s, \"\") for s in np.argmax(output[REQUIRED_OUTPUT], axis=1)])\n",
        "  print (prediction_str)\n",
        "  end_time = time.time()\n",
        "  total_time = end_time - start_time\n",
        "  print(f\"Total time taken: {total_time} seconds\")\n",
        "  i += 1\n",
        "  prefix = f'/content/gdrive/MyDrive/ASL_fingerspelling_project/data/hi_my_name_is/output_{i}.parquet'"
      ],
      "metadata": {
        "id": "mmubq00hmLTf",
        "colab": {
          "base_uri": "https://localhost:8080/"
        },
        "outputId": "99f1cb27-995a-4347-8ecb-3a4c3011fc3f"
      },
      "execution_count": 9,
      "outputs": [
        {
          "output_type": "stream",
          "name": "stdout",
          "text": [
            "hi_m\n",
            "Total time taken: 3.6746582984924316 seconds\n",
            "y nath\n",
            "Total time taken: 4.855689287185669 seconds\n",
            "lan ae\n",
            "Total time taken: 2.995304822921753 seconds\n",
            "iz\n",
            "Total time taken: 2.4983584880828857 seconds\n"
          ]
        }
      ]
    },
    {
      "cell_type": "code",
      "source": [
        "prediction_str"
      ],
      "metadata": {
        "id": "cg0Deks3nWxC",
        "colab": {
          "base_uri": "https://localhost:8080/",
          "height": 35
        },
        "outputId": "2464a889-c869-41d7-ad39-c7a909e9528c"
      },
      "execution_count": null,
      "outputs": [
        {
          "output_type": "execute_result",
          "data": {
            "text/plain": [
              "'2 a-e -aroe'"
            ],
            "application/vnd.google.colaboratory.intrinsic+json": {
              "type": "string"
            }
          },
          "metadata": {},
          "execution_count": 26
        }
      ]
    },
    {
      "cell_type": "code",
      "source": [
        "output[\"outputs\"].shape"
      ],
      "metadata": {
        "id": "85xMO4fr6Aui",
        "colab": {
          "base_uri": "https://localhost:8080/"
        },
        "outputId": "d3383f70-adc7-4ef0-faec-446049700cbb"
      },
      "execution_count": null,
      "outputs": [
        {
          "output_type": "execute_result",
          "data": {
            "text/plain": [
              "(11, 63)"
            ]
          },
          "metadata": {},
          "execution_count": 27
        }
      ]
    },
    {
      "cell_type": "code",
      "source": [],
      "metadata": {
        "id": "OGw1PEP2GpbK"
      },
      "execution_count": null,
      "outputs": []
    }
  ]
}